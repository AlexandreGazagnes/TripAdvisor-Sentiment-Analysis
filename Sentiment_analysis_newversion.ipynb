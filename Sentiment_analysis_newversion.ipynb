{
 "cells": [
  {
   "cell_type": "markdown",
   "id": "85852725",
   "metadata": {},
   "source": [
    "# Sentiment Analysis of TripAdvisor Hotel reviews"
   ]
  },
  {
   "cell_type": "markdown",
   "id": "cd299af6",
   "metadata": {},
   "source": [
    "### Import and install required packages"
   ]
  },
  {
   "cell_type": "code",
   "execution_count": 2,
   "id": "9381fd1e",
   "metadata": {},
   "outputs": [],
   "source": [
    "import numpy as np \n",
    "import pandas as pd\n",
    "import matplotlib.pyplot as plt\n",
    "import seaborn as sns\n",
    "import plotly.express as px"
   ]
  },
  {
   "cell_type": "code",
   "execution_count": 3,
   "id": "bb71fc79",
   "metadata": {},
   "outputs": [
    {
     "name": "stdout",
     "output_type": "stream",
     "text": [
      "Requirement already satisfied: textblob in ./opt/anaconda3/lib/python3.9/site-packages (0.18.0.post0)\r\n",
      "Requirement already satisfied: nltk>=3.8 in ./opt/anaconda3/lib/python3.9/site-packages (from textblob) (3.8.1)\r\n",
      "Requirement already satisfied: tqdm in ./opt/anaconda3/lib/python3.9/site-packages (from nltk>=3.8->textblob) (4.64.1)\r\n",
      "Requirement already satisfied: click in ./opt/anaconda3/lib/python3.9/site-packages (from nltk>=3.8->textblob) (8.0.4)\r\n",
      "Requirement already satisfied: regex>=2021.8.3 in ./opt/anaconda3/lib/python3.9/site-packages (from nltk>=3.8->textblob) (2022.7.9)\r\n",
      "Requirement already satisfied: joblib in ./opt/anaconda3/lib/python3.9/site-packages (from nltk>=3.8->textblob) (1.4.0)\r\n"
     ]
    }
   ],
   "source": [
    "! pip install textblob"
   ]
  },
  {
   "cell_type": "code",
   "execution_count": 4,
   "id": "40499909",
   "metadata": {},
   "outputs": [
    {
     "name": "stdout",
     "output_type": "stream",
     "text": [
      "Requirement already satisfied: wordcloud in ./opt/anaconda3/lib/python3.9/site-packages (1.9.3)\n",
      "Requirement already satisfied: pillow in ./opt/anaconda3/lib/python3.9/site-packages (from wordcloud) (9.2.0)\n",
      "Requirement already satisfied: numpy>=1.6.1 in ./opt/anaconda3/lib/python3.9/site-packages (from wordcloud) (1.24.4)\n",
      "Requirement already satisfied: matplotlib in ./opt/anaconda3/lib/python3.9/site-packages (from wordcloud) (3.8.3)\n",
      "Requirement already satisfied: contourpy>=1.0.1 in ./opt/anaconda3/lib/python3.9/site-packages (from matplotlib->wordcloud) (1.2.0)\n",
      "Requirement already satisfied: packaging>=20.0 in ./opt/anaconda3/lib/python3.9/site-packages (from matplotlib->wordcloud) (21.3)\n",
      "Requirement already satisfied: cycler>=0.10 in ./opt/anaconda3/lib/python3.9/site-packages (from matplotlib->wordcloud) (0.11.0)\n",
      "Requirement already satisfied: importlib-resources>=3.2.0 in ./opt/anaconda3/lib/python3.9/site-packages (from matplotlib->wordcloud) (6.1.1)\n",
      "Requirement already satisfied: fonttools>=4.22.0 in ./opt/anaconda3/lib/python3.9/site-packages (from matplotlib->wordcloud) (4.25.0)\n",
      "Requirement already satisfied: pyparsing>=2.3.1 in ./opt/anaconda3/lib/python3.9/site-packages (from matplotlib->wordcloud) (3.0.9)\n",
      "Requirement already satisfied: python-dateutil>=2.7 in ./opt/anaconda3/lib/python3.9/site-packages (from matplotlib->wordcloud) (2.8.2)\n",
      "Requirement already satisfied: kiwisolver>=1.3.1 in ./opt/anaconda3/lib/python3.9/site-packages (from matplotlib->wordcloud) (1.4.2)\n",
      "Requirement already satisfied: zipp>=3.1.0 in ./opt/anaconda3/lib/python3.9/site-packages (from importlib-resources>=3.2.0->matplotlib->wordcloud) (3.8.0)\n",
      "Requirement already satisfied: six>=1.5 in ./opt/anaconda3/lib/python3.9/site-packages (from python-dateutil>=2.7->matplotlib->wordcloud) (1.16.0)\n"
     ]
    }
   ],
   "source": [
    "! pip install wordcloud"
   ]
  },
  {
   "cell_type": "code",
   "execution_count": 5,
   "id": "7b8e1cb8",
   "metadata": {},
   "outputs": [],
   "source": [
    "from textblob import TextBlob as TB\n",
    "import matplotlib.pyplot as plt\n",
    "from wordcloud import WordCloud\n",
    "from wordcloud import ImageColorGenerator\n",
    "from wordcloud import STOPWORDS\n",
    "import warnings\n",
    "warnings.filterwarnings('ignore') "
   ]
  },
  {
   "cell_type": "markdown",
   "id": "5ef7aed4",
   "metadata": {},
   "source": [
    "### Exploration"
   ]
  },
  {
   "cell_type": "code",
   "execution_count": 6,
   "id": "e0b8d35e",
   "metadata": {},
   "outputs": [],
   "source": [
    "df = pd.read_csv(\"./tripadvisor_hotel_reviews.csv\")"
   ]
  },
  {
   "cell_type": "code",
   "execution_count": 7,
   "id": "48d2c13f",
   "metadata": {},
   "outputs": [
    {
     "data": {
      "text/html": [
       "<div>\n",
       "<style scoped>\n",
       "    .dataframe tbody tr th:only-of-type {\n",
       "        vertical-align: middle;\n",
       "    }\n",
       "\n",
       "    .dataframe tbody tr th {\n",
       "        vertical-align: top;\n",
       "    }\n",
       "\n",
       "    .dataframe thead th {\n",
       "        text-align: right;\n",
       "    }\n",
       "</style>\n",
       "<table border=\"1\" class=\"dataframe\">\n",
       "  <thead>\n",
       "    <tr style=\"text-align: right;\">\n",
       "      <th></th>\n",
       "      <th>Review</th>\n",
       "      <th>Rating</th>\n",
       "    </tr>\n",
       "  </thead>\n",
       "  <tbody>\n",
       "    <tr>\n",
       "      <th>0</th>\n",
       "      <td>nice hotel expensive parking got good deal sta...</td>\n",
       "      <td>4</td>\n",
       "    </tr>\n",
       "    <tr>\n",
       "      <th>1</th>\n",
       "      <td>ok nothing special charge diamond member hilto...</td>\n",
       "      <td>2</td>\n",
       "    </tr>\n",
       "    <tr>\n",
       "      <th>2</th>\n",
       "      <td>nice rooms not 4* experience hotel monaco seat...</td>\n",
       "      <td>3</td>\n",
       "    </tr>\n",
       "    <tr>\n",
       "      <th>3</th>\n",
       "      <td>unique, great stay, wonderful time hotel monac...</td>\n",
       "      <td>5</td>\n",
       "    </tr>\n",
       "    <tr>\n",
       "      <th>4</th>\n",
       "      <td>great stay great stay, went seahawk game aweso...</td>\n",
       "      <td>5</td>\n",
       "    </tr>\n",
       "    <tr>\n",
       "      <th>...</th>\n",
       "      <td>...</td>\n",
       "      <td>...</td>\n",
       "    </tr>\n",
       "    <tr>\n",
       "      <th>20486</th>\n",
       "      <td>best kept secret 3rd time staying charm, not 5...</td>\n",
       "      <td>5</td>\n",
       "    </tr>\n",
       "    <tr>\n",
       "      <th>20487</th>\n",
       "      <td>great location price view hotel great quick pl...</td>\n",
       "      <td>4</td>\n",
       "    </tr>\n",
       "    <tr>\n",
       "      <th>20488</th>\n",
       "      <td>ok just looks nice modern outside, desk staff ...</td>\n",
       "      <td>2</td>\n",
       "    </tr>\n",
       "    <tr>\n",
       "      <th>20489</th>\n",
       "      <td>hotel theft ruined vacation hotel opened sept ...</td>\n",
       "      <td>1</td>\n",
       "    </tr>\n",
       "    <tr>\n",
       "      <th>20490</th>\n",
       "      <td>people talking, ca n't believe excellent ratin...</td>\n",
       "      <td>2</td>\n",
       "    </tr>\n",
       "  </tbody>\n",
       "</table>\n",
       "<p>20491 rows × 2 columns</p>\n",
       "</div>"
      ],
      "text/plain": [
       "                                                  Review  Rating\n",
       "0      nice hotel expensive parking got good deal sta...       4\n",
       "1      ok nothing special charge diamond member hilto...       2\n",
       "2      nice rooms not 4* experience hotel monaco seat...       3\n",
       "3      unique, great stay, wonderful time hotel monac...       5\n",
       "4      great stay great stay, went seahawk game aweso...       5\n",
       "...                                                  ...     ...\n",
       "20486  best kept secret 3rd time staying charm, not 5...       5\n",
       "20487  great location price view hotel great quick pl...       4\n",
       "20488  ok just looks nice modern outside, desk staff ...       2\n",
       "20489  hotel theft ruined vacation hotel opened sept ...       1\n",
       "20490  people talking, ca n't believe excellent ratin...       2\n",
       "\n",
       "[20491 rows x 2 columns]"
      ]
     },
     "execution_count": 7,
     "metadata": {},
     "output_type": "execute_result"
    }
   ],
   "source": [
    "df"
   ]
  },
  {
   "cell_type": "code",
   "execution_count": 8,
   "id": "6a642160",
   "metadata": {},
   "outputs": [
    {
     "data": {
      "text/html": [
       "<div>\n",
       "<style scoped>\n",
       "    .dataframe tbody tr th:only-of-type {\n",
       "        vertical-align: middle;\n",
       "    }\n",
       "\n",
       "    .dataframe tbody tr th {\n",
       "        vertical-align: top;\n",
       "    }\n",
       "\n",
       "    .dataframe thead th {\n",
       "        text-align: right;\n",
       "    }\n",
       "</style>\n",
       "<table border=\"1\" class=\"dataframe\">\n",
       "  <thead>\n",
       "    <tr style=\"text-align: right;\">\n",
       "      <th></th>\n",
       "      <th>Review</th>\n",
       "      <th>Rating</th>\n",
       "    </tr>\n",
       "  </thead>\n",
       "  <tbody>\n",
       "    <tr>\n",
       "      <th>0</th>\n",
       "      <td>nice hotel expensive parking got good deal sta...</td>\n",
       "      <td>4</td>\n",
       "    </tr>\n",
       "    <tr>\n",
       "      <th>1</th>\n",
       "      <td>ok nothing special charge diamond member hilto...</td>\n",
       "      <td>2</td>\n",
       "    </tr>\n",
       "    <tr>\n",
       "      <th>2</th>\n",
       "      <td>nice rooms not 4* experience hotel monaco seat...</td>\n",
       "      <td>3</td>\n",
       "    </tr>\n",
       "    <tr>\n",
       "      <th>3</th>\n",
       "      <td>unique, great stay, wonderful time hotel monac...</td>\n",
       "      <td>5</td>\n",
       "    </tr>\n",
       "    <tr>\n",
       "      <th>4</th>\n",
       "      <td>great stay great stay, went seahawk game aweso...</td>\n",
       "      <td>5</td>\n",
       "    </tr>\n",
       "  </tbody>\n",
       "</table>\n",
       "</div>"
      ],
      "text/plain": [
       "                                              Review  Rating\n",
       "0  nice hotel expensive parking got good deal sta...       4\n",
       "1  ok nothing special charge diamond member hilto...       2\n",
       "2  nice rooms not 4* experience hotel monaco seat...       3\n",
       "3  unique, great stay, wonderful time hotel monac...       5\n",
       "4  great stay great stay, went seahawk game aweso...       5"
      ]
     },
     "execution_count": 8,
     "metadata": {},
     "output_type": "execute_result"
    }
   ],
   "source": [
    "df.head()"
   ]
  },
  {
   "cell_type": "code",
   "execution_count": 9,
   "id": "5a737af4",
   "metadata": {},
   "outputs": [
    {
     "name": "stdout",
     "output_type": "stream",
     "text": [
      "<class 'pandas.core.frame.DataFrame'>\n",
      "RangeIndex: 20491 entries, 0 to 20490\n",
      "Data columns (total 2 columns):\n",
      " #   Column  Non-Null Count  Dtype \n",
      "---  ------  --------------  ----- \n",
      " 0   Review  20491 non-null  object\n",
      " 1   Rating  20491 non-null  int64 \n",
      "dtypes: int64(1), object(1)\n",
      "memory usage: 320.3+ KB\n"
     ]
    }
   ],
   "source": [
    "df.info()"
   ]
  },
  {
   "cell_type": "code",
   "execution_count": 10,
   "id": "60483219",
   "metadata": {},
   "outputs": [
    {
     "data": {
      "text/plain": [
       "object    1\n",
       "int64     1\n",
       "Name: count, dtype: int64"
      ]
     },
     "execution_count": 10,
     "metadata": {},
     "output_type": "execute_result"
    }
   ],
   "source": [
    "df.dtypes.value_counts()\n"
   ]
  },
  {
   "cell_type": "code",
   "execution_count": 11,
   "id": "da067801",
   "metadata": {},
   "outputs": [
    {
     "data": {
      "text/html": [
       "<div>\n",
       "<style scoped>\n",
       "    .dataframe tbody tr th:only-of-type {\n",
       "        vertical-align: middle;\n",
       "    }\n",
       "\n",
       "    .dataframe tbody tr th {\n",
       "        vertical-align: top;\n",
       "    }\n",
       "\n",
       "    .dataframe thead th {\n",
       "        text-align: right;\n",
       "    }\n",
       "</style>\n",
       "<table border=\"1\" class=\"dataframe\">\n",
       "  <thead>\n",
       "    <tr style=\"text-align: right;\">\n",
       "      <th></th>\n",
       "      <th>Review</th>\n",
       "      <th>Rating</th>\n",
       "    </tr>\n",
       "  </thead>\n",
       "  <tbody>\n",
       "    <tr>\n",
       "      <th>2646</th>\n",
       "      <td>nice vacation westin nice clean hotel, rooms s...</td>\n",
       "      <td>3</td>\n",
       "    </tr>\n",
       "    <tr>\n",
       "      <th>227</th>\n",
       "      <td>fantastic hotel fabulous stay sheraton downtow...</td>\n",
       "      <td>5</td>\n",
       "    </tr>\n",
       "    <tr>\n",
       "      <th>19929</th>\n",
       "      <td>excellent value husband stayed nights late jan...</td>\n",
       "      <td>4</td>\n",
       "    </tr>\n",
       "    <tr>\n",
       "      <th>6473</th>\n",
       "      <td>sure o good rate group 4 people stayed radisso...</td>\n",
       "      <td>2</td>\n",
       "    </tr>\n",
       "    <tr>\n",
       "      <th>9253</th>\n",
       "      <td>excellent hotel choice excellent hotel close l...</td>\n",
       "      <td>5</td>\n",
       "    </tr>\n",
       "    <tr>\n",
       "      <th>6133</th>\n",
       "      <td>not, visions lounging bourbon st. balcony soak...</td>\n",
       "      <td>2</td>\n",
       "    </tr>\n",
       "    <tr>\n",
       "      <th>498</th>\n",
       "      <td>great airport hotel prepaid rate hilton.com 84...</td>\n",
       "      <td>5</td>\n",
       "    </tr>\n",
       "    <tr>\n",
       "      <th>1763</th>\n",
       "      <td>great stay near marina, stayed nights conferen...</td>\n",
       "      <td>4</td>\n",
       "    </tr>\n",
       "    <tr>\n",
       "      <th>16576</th>\n",
       "      <td>good value watch beds, ascott beijing perfect ...</td>\n",
       "      <td>4</td>\n",
       "    </tr>\n",
       "    <tr>\n",
       "      <th>2006</th>\n",
       "      <td>great stay breakers breakers reminds 2-star eu...</td>\n",
       "      <td>4</td>\n",
       "    </tr>\n",
       "  </tbody>\n",
       "</table>\n",
       "</div>"
      ],
      "text/plain": [
       "                                                  Review  Rating\n",
       "2646   nice vacation westin nice clean hotel, rooms s...       3\n",
       "227    fantastic hotel fabulous stay sheraton downtow...       5\n",
       "19929  excellent value husband stayed nights late jan...       4\n",
       "6473   sure o good rate group 4 people stayed radisso...       2\n",
       "9253   excellent hotel choice excellent hotel close l...       5\n",
       "6133   not, visions lounging bourbon st. balcony soak...       2\n",
       "498    great airport hotel prepaid rate hilton.com 84...       5\n",
       "1763   great stay near marina, stayed nights conferen...       4\n",
       "16576  good value watch beds, ascott beijing perfect ...       4\n",
       "2006   great stay breakers breakers reminds 2-star eu...       4"
      ]
     },
     "execution_count": 11,
     "metadata": {},
     "output_type": "execute_result"
    }
   ],
   "source": [
    "df.sample(10)"
   ]
  },
  {
   "cell_type": "code",
   "execution_count": 12,
   "id": "22794546",
   "metadata": {},
   "outputs": [
    {
     "data": {
      "text/plain": [
       "0"
      ]
     },
     "execution_count": 12,
     "metadata": {},
     "output_type": "execute_result"
    }
   ],
   "source": [
    "df.duplicated().sum()"
   ]
  },
  {
   "cell_type": "code",
   "execution_count": 13,
   "id": "c1cea41d",
   "metadata": {},
   "outputs": [
    {
     "data": {
      "text/plain": [
       "Review    0\n",
       "Rating    0\n",
       "dtype: int64"
      ]
     },
     "execution_count": 13,
     "metadata": {},
     "output_type": "execute_result"
    }
   ],
   "source": [
    "#Checking for missing values\n",
    "df.isnull().sum()"
   ]
  },
  {
   "cell_type": "markdown",
   "id": "10193d07",
   "metadata": {},
   "source": [
    "**No duplicates neither missing values**"
   ]
  },
  {
   "cell_type": "markdown",
   "id": "4bd800a4",
   "metadata": {},
   "source": [
    "### Structuring the data (Sentiment Analysis)"
   ]
  },
  {
   "cell_type": "markdown",
   "id": "72ddedb6",
   "metadata": {},
   "source": [
    "The next thing we'll do is use the TextBlob library. \n",
    "\n",
    "It's a Python tool that helps with understanding text. TextBlob is nice because it's easy to use, but it can do some pretty fancy stuff with text. One thing it does is it tells you if a sentence is positive or negative. It uses numbers between -1 and 1 for this, where -1 means very negative and 1 means very positive (with polarity). It also looks at words like \"not\" that can change the meaning. TextBlob can also tell you if a sentence is more personal opinion or just facts (with subjectivity). It uses a number between 0 and 1 for this. A higher number means it's more about someone's opinion. TextBlob also checks how strong a word's effect is on the next word. In English, words like \"very\" or \"really\" can make a big difference."
   ]
  },
  {
   "cell_type": "markdown",
   "id": "d22d1744",
   "metadata": {},
   "source": [
    "We picked TextBlob because it's user-friendly and can handle complex text tasks easily. While NLTK and spaCy are awesome too, TextBlob is simpler and doesn't need as much code to do things with text. It's perfect to quickly analyze text sentiment (whether it's positive or negative) or figure out how opinionated a piece of text is. Plus, it's got some neat features like recognizing emojis and figuring out how strong a word's effect is on the next word."
   ]
  },
  {
   "cell_type": "code",
   "execution_count": 14,
   "id": "4eb5923f",
   "metadata": {},
   "outputs": [
    {
     "name": "stdout",
     "output_type": "stream",
     "text": [
      "nice hotel expensive parking got good deal stay hotel anniversary, arrived late evening took advice previous reviews did valet parking, check quick easy, little disappointed non-existent view room room clean nice size, bed comfortable woke stiff neck high pillows, not soundproof like heard music room night morning loud bangs doors opening closing hear people talking hallway, maybe just noisy neighbors, aveda bath products nice, did not goldfish stay nice touch taken advantage staying longer, location great walking distance shopping, overall nice experience having pay 40 parking night,  \n"
     ]
    }
   ],
   "source": [
    "#Test textblob on the first review\n",
    "\n",
    "first_line=df['Review'].iloc[0]\n",
    "print(first_line)"
   ]
  },
  {
   "cell_type": "code",
   "execution_count": 15,
   "id": "f54ffeca",
   "metadata": {},
   "outputs": [
    {
     "data": {
      "text/plain": [
       "Sentiment(polarity=0.20874404761904758, subjectivity=0.687)"
      ]
     },
     "execution_count": 15,
     "metadata": {},
     "output_type": "execute_result"
    }
   ],
   "source": [
    "text = TB(first_line)\n",
    "text.sentiment"
   ]
  },
  {
   "cell_type": "markdown",
   "id": "ee127b1b",
   "metadata": {},
   "source": [
    "It tells us that the review has a very slightly positive sentiment (polarity = 0.2) and more of a personal opinion (subjectivity = 0.7).\n",
    "\n",
    " Now we'll apply it to the dataset, to get the sentiment of each review."
   ]
  },
  {
   "cell_type": "code",
   "execution_count": 16,
   "id": "f92e995a",
   "metadata": {},
   "outputs": [
    {
     "data": {
      "text/html": [
       "<div>\n",
       "<style scoped>\n",
       "    .dataframe tbody tr th:only-of-type {\n",
       "        vertical-align: middle;\n",
       "    }\n",
       "\n",
       "    .dataframe tbody tr th {\n",
       "        vertical-align: top;\n",
       "    }\n",
       "\n",
       "    .dataframe thead th {\n",
       "        text-align: right;\n",
       "    }\n",
       "</style>\n",
       "<table border=\"1\" class=\"dataframe\">\n",
       "  <thead>\n",
       "    <tr style=\"text-align: right;\">\n",
       "      <th></th>\n",
       "      <th>Review</th>\n",
       "      <th>Rating</th>\n",
       "      <th>Sentiment</th>\n",
       "    </tr>\n",
       "  </thead>\n",
       "  <tbody>\n",
       "    <tr>\n",
       "      <th>5771</th>\n",
       "      <td>fine time room improvement just returned fabul...</td>\n",
       "      <td>4</td>\n",
       "      <td>0.242105</td>\n",
       "    </tr>\n",
       "    <tr>\n",
       "      <th>13387</th>\n",
       "      <td>good, just staying night pre-cruise booked pal...</td>\n",
       "      <td>5</td>\n",
       "      <td>0.244788</td>\n",
       "    </tr>\n",
       "    <tr>\n",
       "      <th>6333</th>\n",
       "      <td>iberville suites review having read number rev...</td>\n",
       "      <td>3</td>\n",
       "      <td>0.127706</td>\n",
       "    </tr>\n",
       "    <tr>\n",
       "      <th>9958</th>\n",
       "      <td>surprise location location location, hotel fan...</td>\n",
       "      <td>5</td>\n",
       "      <td>0.447667</td>\n",
       "    </tr>\n",
       "    <tr>\n",
       "      <th>4775</th>\n",
       "      <td>good london hotel wife stayed just 1 night lon...</td>\n",
       "      <td>4</td>\n",
       "      <td>0.469444</td>\n",
       "    </tr>\n",
       "    <tr>\n",
       "      <th>70</th>\n",
       "      <td>ace hotel, reasonably priced hotel great locat...</td>\n",
       "      <td>4</td>\n",
       "      <td>0.443333</td>\n",
       "    </tr>\n",
       "    <tr>\n",
       "      <th>7360</th>\n",
       "      <td>great location pleasant hotel no complaints sp...</td>\n",
       "      <td>5</td>\n",
       "      <td>0.583333</td>\n",
       "    </tr>\n",
       "    <tr>\n",
       "      <th>19425</th>\n",
       "      <td>modern chic far centre stayed vincci arena 3 n...</td>\n",
       "      <td>3</td>\n",
       "      <td>0.075758</td>\n",
       "    </tr>\n",
       "    <tr>\n",
       "      <th>13301</th>\n",
       "      <td>described wonderful stayed great hotel nights ...</td>\n",
       "      <td>4</td>\n",
       "      <td>0.417187</td>\n",
       "    </tr>\n",
       "    <tr>\n",
       "      <th>4797</th>\n",
       "      <td>fantabulistical weekend wife just returned hom...</td>\n",
       "      <td>5</td>\n",
       "      <td>0.369835</td>\n",
       "    </tr>\n",
       "  </tbody>\n",
       "</table>\n",
       "</div>"
      ],
      "text/plain": [
       "                                                  Review  Rating  Sentiment\n",
       "5771   fine time room improvement just returned fabul...       4   0.242105\n",
       "13387  good, just staying night pre-cruise booked pal...       5   0.244788\n",
       "6333   iberville suites review having read number rev...       3   0.127706\n",
       "9958   surprise location location location, hotel fan...       5   0.447667\n",
       "4775   good london hotel wife stayed just 1 night lon...       4   0.469444\n",
       "70     ace hotel, reasonably priced hotel great locat...       4   0.443333\n",
       "7360   great location pleasant hotel no complaints sp...       5   0.583333\n",
       "19425  modern chic far centre stayed vincci arena 3 n...       3   0.075758\n",
       "13301  described wonderful stayed great hotel nights ...       4   0.417187\n",
       "4797   fantabulistical weekend wife just returned hom...       5   0.369835"
      ]
     },
     "execution_count": 16,
     "metadata": {},
     "output_type": "execute_result"
    }
   ],
   "source": [
    "df['Sentiment'] = df['Review'].apply(lambda x: (TB(x).sentiment.polarity))\n",
    "df.sample(10)"
   ]
  },
  {
   "cell_type": "markdown",
   "id": "a066e2b8",
   "metadata": {},
   "source": [
    "We've got the sentiment scores (polarity) for our reviews. But it is not enough to train our model effectively, we need to go a step further and categorize these scores into either 'positive' or 'negative' to feed them into our classification algorithm. To make this happen, we'll craft a function called \"**score_to_sentiment_category**\". This function will categorize the scores based on a scale ranging from -1 to 1. Scores falling between -1 and less than 0 will be labelled as negative, while a score of 0 will be seen as neutral. Scores greater than 0 up to 1 will be classified as positive.\""
   ]
  },
  {
   "cell_type": "code",
   "execution_count": 17,
   "id": "d296f20a",
   "metadata": {},
   "outputs": [],
   "source": [
    "def score_to_sentiment_category(score):\n",
    "    if -1 <= score < 0:\n",
    "        return 'negative'\n",
    "    if score == 0:\n",
    "        return 'neutral'\n",
    "    if 0 < score <= 1:\n",
    "        return 'positive'"
   ]
  },
  {
   "cell_type": "code",
   "execution_count": 18,
   "id": "4690bcb2",
   "metadata": {},
   "outputs": [
    {
     "data": {
      "text/html": [
       "<div>\n",
       "<style scoped>\n",
       "    .dataframe tbody tr th:only-of-type {\n",
       "        vertical-align: middle;\n",
       "    }\n",
       "\n",
       "    .dataframe tbody tr th {\n",
       "        vertical-align: top;\n",
       "    }\n",
       "\n",
       "    .dataframe thead th {\n",
       "        text-align: right;\n",
       "    }\n",
       "</style>\n",
       "<table border=\"1\" class=\"dataframe\">\n",
       "  <thead>\n",
       "    <tr style=\"text-align: right;\">\n",
       "      <th></th>\n",
       "      <th>Review</th>\n",
       "      <th>Rating</th>\n",
       "      <th>Sentiment</th>\n",
       "    </tr>\n",
       "  </thead>\n",
       "  <tbody>\n",
       "    <tr>\n",
       "      <th>15905</th>\n",
       "      <td>great base first-timers tokyo stayed standard ...</td>\n",
       "      <td>4</td>\n",
       "      <td>positive</td>\n",
       "    </tr>\n",
       "    <tr>\n",
       "      <th>11681</th>\n",
       "      <td>ghost hotel mirrors booked room small office c...</td>\n",
       "      <td>2</td>\n",
       "      <td>positive</td>\n",
       "    </tr>\n",
       "    <tr>\n",
       "      <th>14616</th>\n",
       "      <td>worth, husband stopped hotel 4 nights enjoyed ...</td>\n",
       "      <td>5</td>\n",
       "      <td>positive</td>\n",
       "    </tr>\n",
       "    <tr>\n",
       "      <th>12524</th>\n",
       "      <td>great value best beach partner just returned g...</td>\n",
       "      <td>4</td>\n",
       "      <td>positive</td>\n",
       "    </tr>\n",
       "    <tr>\n",
       "      <th>2755</th>\n",
       "      <td>ok barcelo bavaro beach stayed 3 nights 10sep-...</td>\n",
       "      <td>3</td>\n",
       "      <td>positive</td>\n",
       "    </tr>\n",
       "    <tr>\n",
       "      <th>18461</th>\n",
       "      <td>fantastic, couple teenager stayed christmas 20...</td>\n",
       "      <td>5</td>\n",
       "      <td>positive</td>\n",
       "    </tr>\n",
       "    <tr>\n",
       "      <th>5146</th>\n",
       "      <td>loved hotel stayed hotel napoleon week loved, ...</td>\n",
       "      <td>5</td>\n",
       "      <td>positive</td>\n",
       "    </tr>\n",
       "    <tr>\n",
       "      <th>18351</th>\n",
       "      <td>loved deluxe room nice contemporary design rou...</td>\n",
       "      <td>4</td>\n",
       "      <td>positive</td>\n",
       "    </tr>\n",
       "    <tr>\n",
       "      <th>5807</th>\n",
       "      <td>gorgeous beds, stayed stay new york like say h...</td>\n",
       "      <td>4</td>\n",
       "      <td>positive</td>\n",
       "    </tr>\n",
       "    <tr>\n",
       "      <th>13618</th>\n",
       "      <td>hola.ifa nothing like u.s.a- price paid 3 peop...</td>\n",
       "      <td>4</td>\n",
       "      <td>positive</td>\n",
       "    </tr>\n",
       "  </tbody>\n",
       "</table>\n",
       "</div>"
      ],
      "text/plain": [
       "                                                  Review  Rating Sentiment\n",
       "15905  great base first-timers tokyo stayed standard ...       4  positive\n",
       "11681  ghost hotel mirrors booked room small office c...       2  positive\n",
       "14616  worth, husband stopped hotel 4 nights enjoyed ...       5  positive\n",
       "12524  great value best beach partner just returned g...       4  positive\n",
       "2755   ok barcelo bavaro beach stayed 3 nights 10sep-...       3  positive\n",
       "18461  fantastic, couple teenager stayed christmas 20...       5  positive\n",
       "5146   loved hotel stayed hotel napoleon week loved, ...       5  positive\n",
       "18351  loved deluxe room nice contemporary design rou...       4  positive\n",
       "5807   gorgeous beds, stayed stay new york like say h...       4  positive\n",
       "13618  hola.ifa nothing like u.s.a- price paid 3 peop...       4  positive"
      ]
     },
     "execution_count": 18,
     "metadata": {},
     "output_type": "execute_result"
    }
   ],
   "source": [
    "#We apply our previous function to'Sentiment' column\n",
    "\n",
    "df.Sentiment = df.Sentiment.apply(score_to_sentiment_category)\n",
    "df.sample(10)"
   ]
  },
  {
   "cell_type": "markdown",
   "id": "e04dc2b6",
   "metadata": {},
   "source": [
    "From the dataframe, we can see our function worked and we have a labelled dataset representing sentiment, categorized as 'positive' or 'negative"
   ]
  },
  {
   "cell_type": "code",
   "execution_count": 19,
   "id": "2b208624",
   "metadata": {},
   "outputs": [
    {
     "data": {
      "text/plain": [
       "Sentiment\n",
       "positive    19112\n",
       "negative     1356\n",
       "neutral        23\n",
       "Name: count, dtype: int64"
      ]
     },
     "execution_count": 19,
     "metadata": {},
     "output_type": "execute_result"
    }
   ],
   "source": [
    "#Viewing the number of times each category appears in the 'Sentiment' column\n",
    "df['Sentiment'].value_counts()"
   ]
  },
  {
   "cell_type": "markdown",
   "id": "f9db3cfb",
   "metadata": {},
   "source": [
    "The dataset seem highly imbalanced, let's visualize it:"
   ]
  },
  {
   "cell_type": "code",
   "execution_count": 20,
   "id": "b28bebe4",
   "metadata": {},
   "outputs": [
    {
     "data": {
      "image/png": "[encoded data removed]",
      "text/plain": [
       "<Figure size 640x480 with 1 Axes>"
      ]
     },
     "metadata": {},
     "output_type": "display_data"
    }
   ],
   "source": [
    "f = np.array([19112, 1356, 23])\n",
    "mylabels = ['positive', 'negative', 'neutral']\n",
    "\n",
    "colors = ['#1f77b4', '#2ca02c', '#ff7f0e']\n",
    "\n",
    "plt.pie(f, labels = mylabels, colors=colors)\n",
    "plt.show() "
   ]
  },
  {
   "cell_type": "code",
   "execution_count": 21,
   "id": "0968cb6d",
   "metadata": {},
   "outputs": [
    {
     "name": "stdout",
     "output_type": "stream",
     "text": [
      "Percentage of positive reviews: 93.27021619247475 %\n",
      "Percentage of negative reviews: 6.6175394075447755 %\n",
      "Percentage of neutral reviews: 0.11224439998047925 %\n"
     ]
    }
   ],
   "source": [
    "# Counts of reviews\n",
    "positive_count = 19112\n",
    "negative_count = 1356\n",
    "neutral_count = 23\n",
    "\n",
    "# Total number of reviews\n",
    "total_reviews = positive_count + negative_count + neutral_count\n",
    "\n",
    "# Calculate percentages\n",
    "positive_percentage = (positive_count / total_reviews) * 100\n",
    "negative_percentage = (negative_count / total_reviews) * 100\n",
    "neutral_percentage = (neutral_count / total_reviews) * 100\n",
    "\n",
    "# Print percentages\n",
    "print(\"Percentage of positive reviews:\", positive_percentage, \"%\")\n",
    "print(\"Percentage of negative reviews:\", negative_percentage, \"%\")\n",
    "print(\"Percentage of neutral reviews:\", neutral_percentage, \"%\")\n"
   ]
  },
  {
   "cell_type": "markdown",
   "id": "bc653a46",
   "metadata": {},
   "source": [
    "We have about 93% percent of reviews as positive, about 6.6% percent of reviews as negative and about 0.1% of reviews as neutral, we can see there is a clear imbalance in the label, as we have positive sentiment accounting for almost all the observations."
   ]
  },
  {
   "cell_type": "markdown",
   "id": "48f04fb9",
   "metadata": {},
   "source": [
    "Let's move on to feature selection, the imbalanced dataset will be handled with an imbalanced classifier that will balance our dataset"
   ]
  },
  {
   "cell_type": "code",
   "execution_count": 22,
   "id": "90333fe7",
   "metadata": {},
   "outputs": [],
   "source": [
    "x = df['Review']"
   ]
  },
  {
   "cell_type": "code",
   "execution_count": 23,
   "id": "dadc8638",
   "metadata": {},
   "outputs": [],
   "source": [
    "y = df['Sentiment']"
   ]
  },
  {
   "cell_type": "code",
   "execution_count": 24,
   "id": "6a6868e5",
   "metadata": {},
   "outputs": [
    {
     "data": {
      "text/plain": [
       "(20491,)"
      ]
     },
     "execution_count": 24,
     "metadata": {},
     "output_type": "execute_result"
    }
   ],
   "source": [
    "x.shape"
   ]
  },
  {
   "cell_type": "code",
   "execution_count": 25,
   "id": "cb7c408d",
   "metadata": {},
   "outputs": [
    {
     "data": {
      "text/plain": [
       "(20491,)"
      ]
     },
     "execution_count": 25,
     "metadata": {},
     "output_type": "execute_result"
    }
   ],
   "source": [
    "y.shape"
   ]
  },
  {
   "cell_type": "markdown",
   "id": "930177a9",
   "metadata": {},
   "source": [
    "**Splitting the data**"
   ]
  },
  {
   "cell_type": "code",
   "execution_count": 26,
   "id": "9d32e8b1",
   "metadata": {},
   "outputs": [],
   "source": [
    "from sklearn.model_selection import train_test_split\n",
    "x_train, x_test, y_train, y_test = train_test_split(x, y, test_size = 0.3, random_state = 4)"
   ]
  },
  {
   "cell_type": "markdown",
   "id": "a697272e",
   "metadata": {},
   "source": [
    "**Tfidf Vectorizer**"
   ]
  },
  {
   "cell_type": "code",
   "execution_count": 27,
   "id": "580664cf",
   "metadata": {},
   "outputs": [],
   "source": [
    "from sklearn.feature_extraction.text import TfidfVectorizer"
   ]
  },
  {
   "cell_type": "code",
   "execution_count": 28,
   "id": "be73a5d2",
   "metadata": {},
   "outputs": [],
   "source": [
    "tfidf_vector = TfidfVectorizer(ngram_range=(1,1), lowercase = True, stop_words= 'english')"
   ]
  },
  {
   "cell_type": "code",
   "execution_count": 29,
   "id": "4c812dbb",
   "metadata": {},
   "outputs": [],
   "source": [
    "x_train = tfidf_vector.fit_transform(x_train)"
   ]
  },
  {
   "cell_type": "code",
   "execution_count": 30,
   "id": "32635d7d",
   "metadata": {},
   "outputs": [],
   "source": [
    "x_test  = tfidf_vector.transform(x_test)"
   ]
  },
  {
   "cell_type": "markdown",
   "id": "4ca35304",
   "metadata": {},
   "source": [
    "In order to properly represent document content for machine learning tasks, we use the TF-IDF Vectorizer to convert text data into numerical feature vectors based on the relevance of each word in the documents. This allows us to capture both frequency and rarity of each word."
   ]
  },
  {
   "cell_type": "markdown",
   "id": "c97a8cc1",
   "metadata": {},
   "source": [
    "**Training for decision trees**"
   ]
  },
  {
   "cell_type": "code",
   "execution_count": 31,
   "id": "4900b0a7",
   "metadata": {},
   "outputs": [
    {
     "name": "stdout",
     "output_type": "stream",
     "text": [
      "Requirement already satisfied: imbalanced-learn in ./opt/anaconda3/lib/python3.9/site-packages (0.12.2)\n",
      "Requirement already satisfied: numpy>=1.17.3 in ./opt/anaconda3/lib/python3.9/site-packages (from imbalanced-learn) (1.24.4)\n",
      "Requirement already satisfied: joblib>=1.1.1 in ./opt/anaconda3/lib/python3.9/site-packages (from imbalanced-learn) (1.4.0)\n",
      "Requirement already satisfied: threadpoolctl>=2.0.0 in ./opt/anaconda3/lib/python3.9/site-packages (from imbalanced-learn) (2.2.0)\n",
      "Requirement already satisfied: scipy>=1.5.0 in ./opt/anaconda3/lib/python3.9/site-packages (from imbalanced-learn) (1.9.1)\n",
      "Requirement already satisfied: scikit-learn>=1.0.2 in ./opt/anaconda3/lib/python3.9/site-packages (from imbalanced-learn) (1.0.2)\n",
      "Note: you may need to restart the kernel to use updated packages.\n"
     ]
    }
   ],
   "source": [
    "pip install imbalanced-learn"
   ]
  },
  {
   "cell_type": "code",
   "execution_count": 32,
   "id": "e2a4df6e",
   "metadata": {},
   "outputs": [],
   "source": [
    "from imblearn.ensemble import BalancedBaggingClassifier\n",
    "from sklearn.tree import DecisionTreeClassifier"
   ]
  },
  {
   "cell_type": "code",
   "execution_count": 33,
   "id": "d596dea9",
   "metadata": {},
   "outputs": [
    {
     "data": {
      "text/plain": [
       "BalancedBaggingClassifier(estimator=DecisionTreeClassifier(), random_state=42,\n",
       "                          sampling_strategy='not majority')"
      ]
     },
     "execution_count": 33,
     "metadata": {},
     "output_type": "execute_result"
    }
   ],
   "source": [
    "classifier = BalancedBaggingClassifier(estimator=DecisionTreeClassifier(),\n",
    "                                sampling_strategy='not majority',\n",
    "                                replacement=False,\n",
    "                                random_state=42)\n",
    "classifier.fit(x_train, y_train)"
   ]
  },
  {
   "cell_type": "markdown",
   "id": "78838c1a",
   "metadata": {},
   "source": [
    "BalancedBaggingClassifier is a machine learning algorithm that combines multiple classifiers trained on balanced subsets of data to address imbalanced class distributions, and we chose 'not majority' to ensure that the minority classes receive more representation in the training samples than the majority class, thus improving model performance on minority classes."
   ]
  },
  {
   "cell_type": "code",
   "execution_count": 34,
   "id": "d9b2cded",
   "metadata": {},
   "outputs": [],
   "source": [
    "y_hat = classifier.predict(x_test)"
   ]
  },
  {
   "cell_type": "markdown",
   "id": "120a358d",
   "metadata": {},
   "source": [
    "**Evaluation of decision trees**"
   ]
  },
  {
   "cell_type": "code",
   "execution_count": 35,
   "id": "b0cb7a39",
   "metadata": {},
   "outputs": [],
   "source": [
    "from sklearn.metrics import accuracy_score, precision_score, recall_score, f1_score"
   ]
  },
  {
   "cell_type": "code",
   "execution_count": 36,
   "id": "03775fa6",
   "metadata": {},
   "outputs": [
    {
     "name": "stdout",
     "output_type": "stream",
     "text": [
      "Accuracy : 0.93\n"
     ]
    }
   ],
   "source": [
    "accuracy = accuracy_score(y_hat, y_test)\n",
    "rounded_accuracy = round(accuracy, 2)\n",
    "print(\"Accuracy :\", rounded_accuracy)"
   ]
  },
  {
   "cell_type": "code",
   "execution_count": 37,
   "id": "43521bfe",
   "metadata": {},
   "outputs": [
    {
     "data": {
      "text/plain": [
       "1.0"
      ]
     },
     "execution_count": 37,
     "metadata": {},
     "output_type": "execute_result"
    }
   ],
   "source": [
    "precision_score(y_hat, y_test, average='weighted')"
   ]
  },
  {
   "cell_type": "code",
   "execution_count": 38,
   "id": "2c365eaf",
   "metadata": {},
   "outputs": [
    {
     "data": {
      "text/plain": [
       "0.933636955107352"
      ]
     },
     "execution_count": 38,
     "metadata": {},
     "output_type": "execute_result"
    }
   ],
   "source": [
    "recall_score(y_hat, y_test, average='weighted')"
   ]
  },
  {
   "cell_type": "code",
   "execution_count": 39,
   "id": "05f0a437",
   "metadata": {},
   "outputs": [
    {
     "data": {
      "text/plain": [
       "0.9656796769851952"
      ]
     },
     "execution_count": 39,
     "metadata": {},
     "output_type": "execute_result"
    }
   ],
   "source": [
    "f1_score(y_hat, y_test, average='weighted')"
   ]
  },
  {
   "cell_type": "markdown",
   "id": "abf4c296",
   "metadata": {},
   "source": [
    "**Training for logistic regression**"
   ]
  },
  {
   "cell_type": "code",
   "execution_count": 40,
   "id": "cbbeb67d",
   "metadata": {},
   "outputs": [],
   "source": [
    "from sklearn.linear_model import LogisticRegression"
   ]
  },
  {
   "cell_type": "code",
   "execution_count": 44,
   "id": "f1c1ac11",
   "metadata": {},
   "outputs": [
    {
     "data": {
      "text/plain": [
       "BalancedBaggingClassifier(estimator=LogisticRegression(), random_state=42,\n",
       "                          sampling_strategy='not majority')"
      ]
     },
     "execution_count": 44,
     "metadata": {},
     "output_type": "execute_result"
    }
   ],
   "source": [
    "classif2 = BalancedBaggingClassifier(estimator=LogisticRegression(),\n",
    "                                sampling_strategy='not majority',\n",
    "                                replacement=False,\n",
    "                                random_state=42)\n",
    "classif2.fit(x_train, y_train)"
   ]
  },
  {
   "cell_type": "markdown",
   "id": "3d22cb4e",
   "metadata": {},
   "source": [
    "**Evaluation for logistic regression**"
   ]
  },
  {
   "cell_type": "code",
   "execution_count": 69,
   "id": "38aa8cd5",
   "metadata": {},
   "outputs": [],
   "source": [
    "y_hat_logistic = classif2.predict(x_test)"
   ]
  },
  {
   "cell_type": "code",
   "execution_count": 70,
   "id": "fb6ee528",
   "metadata": {},
   "outputs": [
    {
     "name": "stdout",
     "output_type": "stream",
     "text": [
      "Accuracy : 0.93\n"
     ]
    }
   ],
   "source": [
    "accuracy = accuracy_score(y_hat_logistic, y_test)\n",
    "rounded_accuracy = round(accuracy, 2)\n",
    "print(\"Accuracy :\", rounded_accuracy)"
   ]
  },
  {
   "cell_type": "code",
   "execution_count": 71,
   "id": "1f5b68ed",
   "metadata": {},
   "outputs": [
    {
     "data": {
      "text/plain": [
       "1.0"
      ]
     },
     "execution_count": 71,
     "metadata": {},
     "output_type": "execute_result"
    }
   ],
   "source": [
    "precision_score(y_hat_logistic, y_test, average='weighted')"
   ]
  },
  {
   "cell_type": "code",
   "execution_count": 72,
   "id": "7f925cdd",
   "metadata": {},
   "outputs": [
    {
     "data": {
      "text/plain": [
       "0.933636955107352"
      ]
     },
     "execution_count": 72,
     "metadata": {},
     "output_type": "execute_result"
    }
   ],
   "source": [
    "recall_score(y_hat_logistic, y_test, average='weighted')"
   ]
  },
  {
   "cell_type": "code",
   "execution_count": 73,
   "id": "06fd46d5",
   "metadata": {},
   "outputs": [
    {
     "data": {
      "text/plain": [
       "0.9656796769851952"
      ]
     },
     "execution_count": 73,
     "metadata": {},
     "output_type": "execute_result"
    }
   ],
   "source": [
    "f1_score(y_hat_logistic, y_test, average='weighted')"
   ]
  },
  {
   "cell_type": "code",
   "execution_count": null,
   "id": "6cb032e9",
   "metadata": {},
   "outputs": [],
   "source": []
  }
 ],
 "metadata": {
  "kernelspec": {
   "display_name": "Python 3 (ipykernel)",
   "language": "python",
   "name": "python3"
  },
  "language_info": {
   "codemirror_mode": {
    "name": "ipython",
    "version": 3
   },
   "file_extension": ".py",
   "mimetype": "text/x-python",
   "name": "python",
   "nbconvert_exporter": "python",
   "pygments_lexer": "ipython3",
   "version": "3.9.13"
  }
 },
 "nbformat": 4,
 "nbformat_minor": 5
}
