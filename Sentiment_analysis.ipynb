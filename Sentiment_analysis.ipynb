{
 "cells": [
  {
   "cell_type": "markdown",
   "id": "85852725",
   "metadata": {},
   "source": [
    "# Sentiment Analysis of TripAdvisor Hotel reviews"
   ]
  },
  {
   "cell_type": "markdown",
   "id": "cd299af6",
   "metadata": {},
   "source": [
    "### Import and install required packages"
   ]
  },
  {
   "cell_type": "code",
   "execution_count": 1,
   "id": "9381fd1e",
   "metadata": {},
   "outputs": [
    {
     "name": "stderr",
     "output_type": "stream",
     "text": [
      "C:\\Users\\karen\\anaconda3\\lib\\site-packages\\scipy\\__init__.py:146: UserWarning: A NumPy version >=1.16.5 and <1.23.0 is required for this version of SciPy (detected version 1.26.4\n",
      "  warnings.warn(f\"A NumPy version >={np_minversion} and <{np_maxversion}\"\n"
     ]
    }
   ],
   "source": [
    "import numpy as np \n",
    "import pandas as pd\n",
    "import matplotlib.pyplot as plt\n",
    "import seaborn as sns\n",
    "import plotly.express as px"
   ]
  },
  {
   "cell_type": "code",
   "execution_count": 2,
   "id": "bb71fc79",
   "metadata": {},
   "outputs": [
    {
     "name": "stdout",
     "output_type": "stream",
     "text": [
      "Requirement already satisfied: textblob in c:\\users\\karen\\anaconda3\\lib\\site-packages (0.18.0.post0)\n",
      "Requirement already satisfied: nltk>=3.8 in c:\\users\\karen\\anaconda3\\lib\\site-packages (from textblob) (3.8.1)\n",
      "Requirement already satisfied: tqdm in c:\\users\\karen\\anaconda3\\lib\\site-packages (from nltk>=3.8->textblob) (4.64.0)\n",
      "Requirement already satisfied: joblib in c:\\users\\karen\\anaconda3\\lib\\site-packages (from nltk>=3.8->textblob) (1.1.0)\n",
      "Requirement already satisfied: regex>=2021.8.3 in c:\\users\\karen\\anaconda3\\lib\\site-packages (from nltk>=3.8->textblob) (2022.3.15)\n",
      "Requirement already satisfied: click in c:\\users\\karen\\anaconda3\\lib\\site-packages (from nltk>=3.8->textblob) (8.0.4)\n",
      "Requirement already satisfied: colorama in c:\\users\\karen\\anaconda3\\lib\\site-packages (from click->nltk>=3.8->textblob) (0.4.6)\n"
     ]
    }
   ],
   "source": [
    "! pip install textblob"
   ]
  },
  {
   "cell_type": "code",
   "execution_count": 3,
   "id": "40499909",
   "metadata": {},
   "outputs": [
    {
     "name": "stdout",
     "output_type": "stream",
     "text": [
      "Requirement already satisfied: wordcloud in c:\\users\\karen\\anaconda3\\lib\\site-packages (1.9.3)\n",
      "Requirement already satisfied: numpy>=1.6.1 in c:\\users\\karen\\anaconda3\\lib\\site-packages (from wordcloud) (1.26.4)\n",
      "Requirement already satisfied: matplotlib in c:\\users\\karen\\anaconda3\\lib\\site-packages (from wordcloud) (3.5.1)\n",
      "Requirement already satisfied: pillow in c:\\users\\karen\\anaconda3\\lib\\site-packages (from wordcloud) (9.0.1)\n",
      "Requirement already satisfied: packaging>=20.0 in c:\\users\\karen\\anaconda3\\lib\\site-packages (from matplotlib->wordcloud) (21.3)\n",
      "Requirement already satisfied: pyparsing>=2.2.1 in c:\\users\\karen\\anaconda3\\lib\\site-packages (from matplotlib->wordcloud) (3.0.4)\n",
      "Requirement already satisfied: cycler>=0.10 in c:\\users\\karen\\anaconda3\\lib\\site-packages (from matplotlib->wordcloud) (0.11.0)\n",
      "Requirement already satisfied: kiwisolver>=1.0.1 in c:\\users\\karen\\anaconda3\\lib\\site-packages (from matplotlib->wordcloud) (1.3.2)\n",
      "Requirement already satisfied: fonttools>=4.22.0 in c:\\users\\karen\\anaconda3\\lib\\site-packages (from matplotlib->wordcloud) (4.25.0)\n",
      "Requirement already satisfied: python-dateutil>=2.7 in c:\\users\\karen\\anaconda3\\lib\\site-packages (from matplotlib->wordcloud) (2.8.2)\n",
      "Requirement already satisfied: six>=1.5 in c:\\users\\karen\\anaconda3\\lib\\site-packages (from python-dateutil>=2.7->matplotlib->wordcloud) (1.16.0)\n"
     ]
    }
   ],
   "source": [
    "! pip install wordcloud"
   ]
  },
  {
   "cell_type": "code",
   "execution_count": 4,
   "id": "7b8e1cb8",
   "metadata": {},
   "outputs": [],
   "source": [
    "from textblob import TextBlob as TB\n",
    "import matplotlib.pyplot as plt\n",
    "from wordcloud import WordCloud\n",
    "from wordcloud import ImageColorGenerator\n",
    "from wordcloud import STOPWORDS\n",
    "import warnings\n",
    "warnings.filterwarnings('ignore') "
   ]
  },
  {
   "cell_type": "markdown",
   "id": "5ef7aed4",
   "metadata": {},
   "source": [
    "### Exploration"
   ]
  },
  {
   "cell_type": "code",
   "execution_count": 5,
   "id": "e0b8d35e",
   "metadata": {},
   "outputs": [],
   "source": [
    "df = pd.read_csv(\"./tripadvisor_hotel_reviews.csv\")"
   ]
  },
  {
   "cell_type": "code",
   "execution_count": 6,
   "id": "48d2c13f",
   "metadata": {},
   "outputs": [
    {
     "data": {
      "text/html": [
       "<div>\n",
       "<style scoped>\n",
       "    .dataframe tbody tr th:only-of-type {\n",
       "        vertical-align: middle;\n",
       "    }\n",
       "\n",
       "    .dataframe tbody tr th {\n",
       "        vertical-align: top;\n",
       "    }\n",
       "\n",
       "    .dataframe thead th {\n",
       "        text-align: right;\n",
       "    }\n",
       "</style>\n",
       "<table border=\"1\" class=\"dataframe\">\n",
       "  <thead>\n",
       "    <tr style=\"text-align: right;\">\n",
       "      <th></th>\n",
       "      <th>Review</th>\n",
       "      <th>Rating</th>\n",
       "    </tr>\n",
       "  </thead>\n",
       "  <tbody>\n",
       "    <tr>\n",
       "      <th>0</th>\n",
       "      <td>nice hotel expensive parking got good deal sta...</td>\n",
       "      <td>4</td>\n",
       "    </tr>\n",
       "    <tr>\n",
       "      <th>1</th>\n",
       "      <td>ok nothing special charge diamond member hilto...</td>\n",
       "      <td>2</td>\n",
       "    </tr>\n",
       "    <tr>\n",
       "      <th>2</th>\n",
       "      <td>nice rooms not 4* experience hotel monaco seat...</td>\n",
       "      <td>3</td>\n",
       "    </tr>\n",
       "    <tr>\n",
       "      <th>3</th>\n",
       "      <td>unique, great stay, wonderful time hotel monac...</td>\n",
       "      <td>5</td>\n",
       "    </tr>\n",
       "    <tr>\n",
       "      <th>4</th>\n",
       "      <td>great stay great stay, went seahawk game aweso...</td>\n",
       "      <td>5</td>\n",
       "    </tr>\n",
       "    <tr>\n",
       "      <th>...</th>\n",
       "      <td>...</td>\n",
       "      <td>...</td>\n",
       "    </tr>\n",
       "    <tr>\n",
       "      <th>20486</th>\n",
       "      <td>best kept secret 3rd time staying charm, not 5...</td>\n",
       "      <td>5</td>\n",
       "    </tr>\n",
       "    <tr>\n",
       "      <th>20487</th>\n",
       "      <td>great location price view hotel great quick pl...</td>\n",
       "      <td>4</td>\n",
       "    </tr>\n",
       "    <tr>\n",
       "      <th>20488</th>\n",
       "      <td>ok just looks nice modern outside, desk staff ...</td>\n",
       "      <td>2</td>\n",
       "    </tr>\n",
       "    <tr>\n",
       "      <th>20489</th>\n",
       "      <td>hotel theft ruined vacation hotel opened sept ...</td>\n",
       "      <td>1</td>\n",
       "    </tr>\n",
       "    <tr>\n",
       "      <th>20490</th>\n",
       "      <td>people talking, ca n't believe excellent ratin...</td>\n",
       "      <td>2</td>\n",
       "    </tr>\n",
       "  </tbody>\n",
       "</table>\n",
       "<p>20491 rows × 2 columns</p>\n",
       "</div>"
      ],
      "text/plain": [
       "                                                  Review  Rating\n",
       "0      nice hotel expensive parking got good deal sta...       4\n",
       "1      ok nothing special charge diamond member hilto...       2\n",
       "2      nice rooms not 4* experience hotel monaco seat...       3\n",
       "3      unique, great stay, wonderful time hotel monac...       5\n",
       "4      great stay great stay, went seahawk game aweso...       5\n",
       "...                                                  ...     ...\n",
       "20486  best kept secret 3rd time staying charm, not 5...       5\n",
       "20487  great location price view hotel great quick pl...       4\n",
       "20488  ok just looks nice modern outside, desk staff ...       2\n",
       "20489  hotel theft ruined vacation hotel opened sept ...       1\n",
       "20490  people talking, ca n't believe excellent ratin...       2\n",
       "\n",
       "[20491 rows x 2 columns]"
      ]
     },
     "execution_count": 6,
     "metadata": {},
     "output_type": "execute_result"
    }
   ],
   "source": [
    "df"
   ]
  },
  {
   "cell_type": "code",
   "execution_count": 7,
   "id": "6a642160",
   "metadata": {},
   "outputs": [
    {
     "data": {
      "text/html": [
       "<div>\n",
       "<style scoped>\n",
       "    .dataframe tbody tr th:only-of-type {\n",
       "        vertical-align: middle;\n",
       "    }\n",
       "\n",
       "    .dataframe tbody tr th {\n",
       "        vertical-align: top;\n",
       "    }\n",
       "\n",
       "    .dataframe thead th {\n",
       "        text-align: right;\n",
       "    }\n",
       "</style>\n",
       "<table border=\"1\" class=\"dataframe\">\n",
       "  <thead>\n",
       "    <tr style=\"text-align: right;\">\n",
       "      <th></th>\n",
       "      <th>Review</th>\n",
       "      <th>Rating</th>\n",
       "    </tr>\n",
       "  </thead>\n",
       "  <tbody>\n",
       "    <tr>\n",
       "      <th>0</th>\n",
       "      <td>nice hotel expensive parking got good deal sta...</td>\n",
       "      <td>4</td>\n",
       "    </tr>\n",
       "    <tr>\n",
       "      <th>1</th>\n",
       "      <td>ok nothing special charge diamond member hilto...</td>\n",
       "      <td>2</td>\n",
       "    </tr>\n",
       "    <tr>\n",
       "      <th>2</th>\n",
       "      <td>nice rooms not 4* experience hotel monaco seat...</td>\n",
       "      <td>3</td>\n",
       "    </tr>\n",
       "    <tr>\n",
       "      <th>3</th>\n",
       "      <td>unique, great stay, wonderful time hotel monac...</td>\n",
       "      <td>5</td>\n",
       "    </tr>\n",
       "    <tr>\n",
       "      <th>4</th>\n",
       "      <td>great stay great stay, went seahawk game aweso...</td>\n",
       "      <td>5</td>\n",
       "    </tr>\n",
       "  </tbody>\n",
       "</table>\n",
       "</div>"
      ],
      "text/plain": [
       "                                              Review  Rating\n",
       "0  nice hotel expensive parking got good deal sta...       4\n",
       "1  ok nothing special charge diamond member hilto...       2\n",
       "2  nice rooms not 4* experience hotel monaco seat...       3\n",
       "3  unique, great stay, wonderful time hotel monac...       5\n",
       "4  great stay great stay, went seahawk game aweso...       5"
      ]
     },
     "execution_count": 7,
     "metadata": {},
     "output_type": "execute_result"
    }
   ],
   "source": [
    "df.head()"
   ]
  },
  {
   "cell_type": "code",
   "execution_count": 8,
   "id": "5a737af4",
   "metadata": {},
   "outputs": [
    {
     "name": "stdout",
     "output_type": "stream",
     "text": [
      "<class 'pandas.core.frame.DataFrame'>\n",
      "RangeIndex: 20491 entries, 0 to 20490\n",
      "Data columns (total 2 columns):\n",
      " #   Column  Non-Null Count  Dtype \n",
      "---  ------  --------------  ----- \n",
      " 0   Review  20491 non-null  object\n",
      " 1   Rating  20491 non-null  int64 \n",
      "dtypes: int64(1), object(1)\n",
      "memory usage: 320.3+ KB\n"
     ]
    }
   ],
   "source": [
    "df.info()"
   ]
  },
  {
   "cell_type": "code",
   "execution_count": 9,
   "id": "60483219",
   "metadata": {},
   "outputs": [
    {
     "data": {
      "text/plain": [
       "object    1\n",
       "int64     1\n",
       "dtype: int64"
      ]
     },
     "execution_count": 9,
     "metadata": {},
     "output_type": "execute_result"
    }
   ],
   "source": [
    "df.dtypes.value_counts()\n"
   ]
  },
  {
   "cell_type": "code",
   "execution_count": 10,
   "id": "da067801",
   "metadata": {},
   "outputs": [
    {
     "data": {
      "text/html": [
       "<div>\n",
       "<style scoped>\n",
       "    .dataframe tbody tr th:only-of-type {\n",
       "        vertical-align: middle;\n",
       "    }\n",
       "\n",
       "    .dataframe tbody tr th {\n",
       "        vertical-align: top;\n",
       "    }\n",
       "\n",
       "    .dataframe thead th {\n",
       "        text-align: right;\n",
       "    }\n",
       "</style>\n",
       "<table border=\"1\" class=\"dataframe\">\n",
       "  <thead>\n",
       "    <tr style=\"text-align: right;\">\n",
       "      <th></th>\n",
       "      <th>Review</th>\n",
       "      <th>Rating</th>\n",
       "    </tr>\n",
       "  </thead>\n",
       "  <tbody>\n",
       "    <tr>\n",
       "      <th>11525</th>\n",
       "      <td>great hotel girlfriend stayed westin august 20...</td>\n",
       "      <td>5</td>\n",
       "    </tr>\n",
       "    <tr>\n",
       "      <th>4155</th>\n",
       "      <td>stop complaining wonderful, life wonderful tim...</td>\n",
       "      <td>5</td>\n",
       "    </tr>\n",
       "    <tr>\n",
       "      <th>5359</th>\n",
       "      <td>just okay stay just okay, quite poor star hote...</td>\n",
       "      <td>2</td>\n",
       "    </tr>\n",
       "    <tr>\n",
       "      <th>12906</th>\n",
       "      <td>amazing holiday, stayed april 24th-8th may.hot...</td>\n",
       "      <td>5</td>\n",
       "    </tr>\n",
       "    <tr>\n",
       "      <th>5449</th>\n",
       "      <td>great worth visit original booking minute.com ...</td>\n",
       "      <td>5</td>\n",
       "    </tr>\n",
       "    <tr>\n",
       "      <th>15309</th>\n",
       "      <td>good hotel good location stayed 4 nights septe...</td>\n",
       "      <td>4</td>\n",
       "    </tr>\n",
       "    <tr>\n",
       "      <th>17838</th>\n",
       "      <td>great place stay great place stay venice, clos...</td>\n",
       "      <td>5</td>\n",
       "    </tr>\n",
       "    <tr>\n",
       "      <th>14911</th>\n",
       "      <td>great rooms fantastic service just got barcelo...</td>\n",
       "      <td>5</td>\n",
       "    </tr>\n",
       "    <tr>\n",
       "      <th>18094</th>\n",
       "      <td>great value hotel, got great non-changeable ra...</td>\n",
       "      <td>4</td>\n",
       "    </tr>\n",
       "    <tr>\n",
       "      <th>12492</th>\n",
       "      <td>horrible experience say agree reviews below.th...</td>\n",
       "      <td>1</td>\n",
       "    </tr>\n",
       "  </tbody>\n",
       "</table>\n",
       "</div>"
      ],
      "text/plain": [
       "                                                  Review  Rating\n",
       "11525  great hotel girlfriend stayed westin august 20...       5\n",
       "4155   stop complaining wonderful, life wonderful tim...       5\n",
       "5359   just okay stay just okay, quite poor star hote...       2\n",
       "12906  amazing holiday, stayed april 24th-8th may.hot...       5\n",
       "5449   great worth visit original booking minute.com ...       5\n",
       "15309  good hotel good location stayed 4 nights septe...       4\n",
       "17838  great place stay great place stay venice, clos...       5\n",
       "14911  great rooms fantastic service just got barcelo...       5\n",
       "18094  great value hotel, got great non-changeable ra...       4\n",
       "12492  horrible experience say agree reviews below.th...       1"
      ]
     },
     "execution_count": 10,
     "metadata": {},
     "output_type": "execute_result"
    }
   ],
   "source": [
    "df.sample(10)"
   ]
  },
  {
   "cell_type": "code",
   "execution_count": 11,
   "id": "22794546",
   "metadata": {},
   "outputs": [
    {
     "data": {
      "text/plain": [
       "0"
      ]
     },
     "execution_count": 11,
     "metadata": {},
     "output_type": "execute_result"
    }
   ],
   "source": [
    "df.duplicated().sum()"
   ]
  },
  {
   "cell_type": "code",
   "execution_count": 22,
   "id": "c1cea41d",
   "metadata": {},
   "outputs": [
    {
     "data": {
      "text/plain": [
       "Review       0\n",
       "Rating       0\n",
       "Sentiment    0\n",
       "dtype: int64"
      ]
     },
     "execution_count": 22,
     "metadata": {},
     "output_type": "execute_result"
    }
   ],
   "source": [
    "#Checking for missing values\n",
    "df.isnull().sum()"
   ]
  },
  {
   "cell_type": "markdown",
   "id": "10193d07",
   "metadata": {},
   "source": [
    "**No duplicates neither missing values**"
   ]
  },
  {
   "cell_type": "markdown",
   "id": "4bd800a4",
   "metadata": {},
   "source": [
    "### Structuring the data (Sentiment Analysis)"
   ]
  },
  {
   "cell_type": "markdown",
   "id": "72ddedb6",
   "metadata": {},
   "source": [
    "The next thing we'll do is use the TextBlob library. \n",
    "\n",
    "It's a Python tool that helps with understanding text. TextBlob is nice because it's easy to use, but it can do some pretty fancy stuff with text. One thing it does is it tells you if a sentence is positive or negative. It uses numbers between -1 and 1 for this, where -1 means very negative and 1 means very positive (with polarity). It also looks at words like \"not\" that can change the meaning. TextBlob can also tell you if a sentence is more personal opinion or just facts (with subjectivity). It uses a number between 0 and 1 for this. A higher number means it's more about someone's opinion. TextBlob also checks how strong a word's effect is on the next word. In English, words like \"very\" or \"really\" can make a big difference."
   ]
  },
  {
   "cell_type": "markdown",
   "id": "d22d1744",
   "metadata": {},
   "source": [
    "We picked TextBlob because it's user-friendly and can handle complex text tasks easily. While NLTK and spaCy are awesome too, TextBlob is simpler and doesn't need as much code to do things with text. It's perfect to quickly analyze text sentiment (whether it's positive or negative) or figure out how opinionated a piece of text is. Plus, it's got some neat features like recognizing emojis and figuring out how strong a word's effect is on the next word."
   ]
  },
  {
   "cell_type": "code",
   "execution_count": 14,
   "id": "4eb5923f",
   "metadata": {},
   "outputs": [
    {
     "name": "stdout",
     "output_type": "stream",
     "text": [
      "nice hotel expensive parking got good deal stay hotel anniversary, arrived late evening took advice previous reviews did valet parking, check quick easy, little disappointed non-existent view room room clean nice size, bed comfortable woke stiff neck high pillows, not soundproof like heard music room night morning loud bangs doors opening closing hear people talking hallway, maybe just noisy neighbors, aveda bath products nice, did not goldfish stay nice touch taken advantage staying longer, location great walking distance shopping, overall nice experience having pay 40 parking night,  \n"
     ]
    }
   ],
   "source": [
    "#Test textblob on the first review\n",
    "\n",
    "first_line=df['Review'].iloc[0]\n",
    "print(first_line)"
   ]
  },
  {
   "cell_type": "code",
   "execution_count": 15,
   "id": "f54ffeca",
   "metadata": {},
   "outputs": [
    {
     "data": {
      "text/plain": [
       "Sentiment(polarity=0.20874404761904758, subjectivity=0.687)"
      ]
     },
     "execution_count": 15,
     "metadata": {},
     "output_type": "execute_result"
    }
   ],
   "source": [
    "text = TB(first_line)\n",
    "text.sentiment"
   ]
  },
  {
   "cell_type": "markdown",
   "id": "ee127b1b",
   "metadata": {},
   "source": [
    "It tells us that the review has a very slightly positive sentiment (polarity = 0.2) and more of a personal opinion (subjectivity = 0.7).\n",
    "\n",
    " Now we'll apply it to the dataset, to get the sentiment of each review."
   ]
  },
  {
   "cell_type": "code",
   "execution_count": 17,
   "id": "f92e995a",
   "metadata": {},
   "outputs": [
    {
     "data": {
      "text/html": [
       "<div>\n",
       "<style scoped>\n",
       "    .dataframe tbody tr th:only-of-type {\n",
       "        vertical-align: middle;\n",
       "    }\n",
       "\n",
       "    .dataframe tbody tr th {\n",
       "        vertical-align: top;\n",
       "    }\n",
       "\n",
       "    .dataframe thead th {\n",
       "        text-align: right;\n",
       "    }\n",
       "</style>\n",
       "<table border=\"1\" class=\"dataframe\">\n",
       "  <thead>\n",
       "    <tr style=\"text-align: right;\">\n",
       "      <th></th>\n",
       "      <th>Review</th>\n",
       "      <th>Rating</th>\n",
       "      <th>Sentiment</th>\n",
       "    </tr>\n",
       "  </thead>\n",
       "  <tbody>\n",
       "    <tr>\n",
       "      <th>7261</th>\n",
       "      <td>excellent choice comfortable clean quiet well-...</td>\n",
       "      <td>5</td>\n",
       "      <td>0.232328</td>\n",
       "    </tr>\n",
       "    <tr>\n",
       "      <th>6198</th>\n",
       "      <td>great stay, great hotel, stayed kealohilani to...</td>\n",
       "      <td>4</td>\n",
       "      <td>0.387698</td>\n",
       "    </tr>\n",
       "    <tr>\n",
       "      <th>11444</th>\n",
       "      <td>amazing loved loved loved, wish sleep westin b...</td>\n",
       "      <td>5</td>\n",
       "      <td>0.522222</td>\n",
       "    </tr>\n",
       "    <tr>\n",
       "      <th>10564</th>\n",
       "      <td>loved preview wife couple requirements hotels ...</td>\n",
       "      <td>5</td>\n",
       "      <td>0.379625</td>\n",
       "    </tr>\n",
       "    <tr>\n",
       "      <th>146</th>\n",
       "      <td>surprising enjoyable stay, 3 hotels stayed tri...</td>\n",
       "      <td>4</td>\n",
       "      <td>0.126136</td>\n",
       "    </tr>\n",
       "    <tr>\n",
       "      <th>16041</th>\n",
       "      <td>good airport hotel booked hotel early departur...</td>\n",
       "      <td>2</td>\n",
       "      <td>0.193403</td>\n",
       "    </tr>\n",
       "    <tr>\n",
       "      <th>15766</th>\n",
       "      <td>heaven earth place truly amazing possibly best...</td>\n",
       "      <td>5</td>\n",
       "      <td>0.210556</td>\n",
       "    </tr>\n",
       "    <tr>\n",
       "      <th>15591</th>\n",
       "      <td>fabulous hotel wow city just returned trip hon...</td>\n",
       "      <td>5</td>\n",
       "      <td>0.386429</td>\n",
       "    </tr>\n",
       "    <tr>\n",
       "      <th>17097</th>\n",
       "      <td>loved gran bahia, stayed gran bahia principe a...</td>\n",
       "      <td>5</td>\n",
       "      <td>0.214275</td>\n",
       "    </tr>\n",
       "    <tr>\n",
       "      <th>16585</th>\n",
       "      <td>absolutely best reading poor reviews hotel uns...</td>\n",
       "      <td>4</td>\n",
       "      <td>0.413636</td>\n",
       "    </tr>\n",
       "  </tbody>\n",
       "</table>\n",
       "</div>"
      ],
      "text/plain": [
       "                                                  Review  Rating  Sentiment\n",
       "7261   excellent choice comfortable clean quiet well-...       5   0.232328\n",
       "6198   great stay, great hotel, stayed kealohilani to...       4   0.387698\n",
       "11444  amazing loved loved loved, wish sleep westin b...       5   0.522222\n",
       "10564  loved preview wife couple requirements hotels ...       5   0.379625\n",
       "146    surprising enjoyable stay, 3 hotels stayed tri...       4   0.126136\n",
       "16041  good airport hotel booked hotel early departur...       2   0.193403\n",
       "15766  heaven earth place truly amazing possibly best...       5   0.210556\n",
       "15591  fabulous hotel wow city just returned trip hon...       5   0.386429\n",
       "17097  loved gran bahia, stayed gran bahia principe a...       5   0.214275\n",
       "16585  absolutely best reading poor reviews hotel uns...       4   0.413636"
      ]
     },
     "execution_count": 17,
     "metadata": {},
     "output_type": "execute_result"
    }
   ],
   "source": [
    "df['Sentiment'] = df['Review'].apply(lambda x: (TB(x).sentiment.polarity))\n",
    "df.sample(10)"
   ]
  },
  {
   "cell_type": "markdown",
   "id": "a066e2b8",
   "metadata": {},
   "source": [
    "We've got the sentiment scores (polarity) for our reviews. But it is not enough to train our model effectively, we need to go a step further and categorize these scores into either 'positive' or 'negative' to feed them into our classification algorithm. To make this happen, we'll craft a function called \"**score_to_sentiment_category**\". This function will categorize the scores based on a scale ranging from -1 to 1. Scores falling between -1 and less than 0 will be labelled as negative, while a score of 0 will be seen as neutral. Scores greater than 0 up to 1 will be classified as positive.\""
   ]
  },
  {
   "cell_type": "code",
   "execution_count": 18,
   "id": "d296f20a",
   "metadata": {},
   "outputs": [],
   "source": [
    "def score_to_sentiment_category(score):\n",
    "    if -1 <= score < 0:\n",
    "        return 'negative'\n",
    "    if score == 0:\n",
    "        return 'neutral'\n",
    "    if 0 < score <= 1:\n",
    "        return 'positive'"
   ]
  },
  {
   "cell_type": "code",
   "execution_count": 19,
   "id": "4690bcb2",
   "metadata": {},
   "outputs": [
    {
     "data": {
      "text/html": [
       "<div>\n",
       "<style scoped>\n",
       "    .dataframe tbody tr th:only-of-type {\n",
       "        vertical-align: middle;\n",
       "    }\n",
       "\n",
       "    .dataframe tbody tr th {\n",
       "        vertical-align: top;\n",
       "    }\n",
       "\n",
       "    .dataframe thead th {\n",
       "        text-align: right;\n",
       "    }\n",
       "</style>\n",
       "<table border=\"1\" class=\"dataframe\">\n",
       "  <thead>\n",
       "    <tr style=\"text-align: right;\">\n",
       "      <th></th>\n",
       "      <th>Review</th>\n",
       "      <th>Rating</th>\n",
       "      <th>Sentiment</th>\n",
       "    </tr>\n",
       "  </thead>\n",
       "  <tbody>\n",
       "    <tr>\n",
       "      <th>14405</th>\n",
       "      <td>second stay fabulous second time staying antic...</td>\n",
       "      <td>5</td>\n",
       "      <td>positive</td>\n",
       "    </tr>\n",
       "    <tr>\n",
       "      <th>7715</th>\n",
       "      <td>new favorite husband stayed nights pleasant ho...</td>\n",
       "      <td>5</td>\n",
       "      <td>positive</td>\n",
       "    </tr>\n",
       "    <tr>\n",
       "      <th>8297</th>\n",
       "      <td>dont expect stayed maritim hotel july 18-22 20...</td>\n",
       "      <td>3</td>\n",
       "      <td>positive</td>\n",
       "    </tr>\n",
       "    <tr>\n",
       "      <th>19508</th>\n",
       "      <td>great resort food needs help resort absolutely...</td>\n",
       "      <td>3</td>\n",
       "      <td>positive</td>\n",
       "    </tr>\n",
       "    <tr>\n",
       "      <th>389</th>\n",
       "      <td>princess pea arrived hour check-in waiting 15 ...</td>\n",
       "      <td>2</td>\n",
       "      <td>negative</td>\n",
       "    </tr>\n",
       "    <tr>\n",
       "      <th>15098</th>\n",
       "      <td>best location average hotel live china novotel...</td>\n",
       "      <td>4</td>\n",
       "      <td>positive</td>\n",
       "    </tr>\n",
       "    <tr>\n",
       "      <th>11452</th>\n",
       "      <td>not terrible not great westin husband stayed w...</td>\n",
       "      <td>2</td>\n",
       "      <td>positive</td>\n",
       "    </tr>\n",
       "    <tr>\n",
       "      <th>19673</th>\n",
       "      <td>wonderful stay stayed westin beijing month boy...</td>\n",
       "      <td>5</td>\n",
       "      <td>positive</td>\n",
       "    </tr>\n",
       "    <tr>\n",
       "      <th>8898</th>\n",
       "      <td>renaissance rocked great hotel central locatio...</td>\n",
       "      <td>5</td>\n",
       "      <td>positive</td>\n",
       "    </tr>\n",
       "    <tr>\n",
       "      <th>3569</th>\n",
       "      <td>heaven funeral, stunningly beautiful resort, b...</td>\n",
       "      <td>5</td>\n",
       "      <td>positive</td>\n",
       "    </tr>\n",
       "  </tbody>\n",
       "</table>\n",
       "</div>"
      ],
      "text/plain": [
       "                                                  Review  Rating Sentiment\n",
       "14405  second stay fabulous second time staying antic...       5  positive\n",
       "7715   new favorite husband stayed nights pleasant ho...       5  positive\n",
       "8297   dont expect stayed maritim hotel july 18-22 20...       3  positive\n",
       "19508  great resort food needs help resort absolutely...       3  positive\n",
       "389    princess pea arrived hour check-in waiting 15 ...       2  negative\n",
       "15098  best location average hotel live china novotel...       4  positive\n",
       "11452  not terrible not great westin husband stayed w...       2  positive\n",
       "19673  wonderful stay stayed westin beijing month boy...       5  positive\n",
       "8898   renaissance rocked great hotel central locatio...       5  positive\n",
       "3569   heaven funeral, stunningly beautiful resort, b...       5  positive"
      ]
     },
     "execution_count": 19,
     "metadata": {},
     "output_type": "execute_result"
    }
   ],
   "source": [
    "#We apply our previous function to'Sentiment' column\n",
    "\n",
    "df.Sentiment = df.Sentiment.apply(score_to_sentiment_category)\n",
    "df.sample(10)"
   ]
  },
  {
   "cell_type": "markdown",
   "id": "e04dc2b6",
   "metadata": {},
   "source": [
    "From the dataframe, we can see our function worked and we have a labelled dataset representing sentiment, categorized as 'positive' or 'negative"
   ]
  },
  {
   "cell_type": "code",
   "execution_count": 23,
   "id": "2b208624",
   "metadata": {},
   "outputs": [
    {
     "data": {
      "text/plain": [
       "positive    19112\n",
       "negative     1356\n",
       "neutral        23\n",
       "Name: Sentiment, dtype: int64"
      ]
     },
     "execution_count": 23,
     "metadata": {},
     "output_type": "execute_result"
    }
   ],
   "source": [
    "#Viewing the number of times each category appears in the 'Sentiment' column\n",
    "df['Sentiment'].value_counts()"
   ]
  },
  {
   "cell_type": "markdown",
   "id": "f9db3cfb",
   "metadata": {},
   "source": [
    "The dataset seem highly imbalanced, let's visualize it:"
   ]
  },
  {
   "cell_type": "code",
   "execution_count": 28,
   "id": "b28bebe4",
   "metadata": {},
   "outputs": [
    {
     "data": {
      "image/png": "[encoded data removed]",
      "text/plain": [
       "<Figure size 432x288 with 1 Axes>"
      ]
     },
     "metadata": {},
     "output_type": "display_data"
    }
   ],
   "source": [
    "f = np.array([19112, 1356, 23])\n",
    "mylabels = ['positive', 'negative', 'neutral']\n",
    "\n",
    "colors = ['#1f77b4', '#2ca02c', '#ff7f0e']\n",
    "\n",
    "plt.pie(f, labels = mylabels, colors=colors)\n",
    "plt.show() "
   ]
  },
  {
   "cell_type": "code",
   "execution_count": 29,
   "id": "0968cb6d",
   "metadata": {},
   "outputs": [
    {
     "name": "stdout",
     "output_type": "stream",
     "text": [
      "Percentage of positive reviews: 93.27021619247475 %\n",
      "Percentage of negative reviews: 6.6175394075447755 %\n",
      "Percentage of neutral reviews: 0.11224439998047925 %\n"
     ]
    }
   ],
   "source": [
    "# Counts of reviews\n",
    "positive_count = 19112\n",
    "negative_count = 1356\n",
    "neutral_count = 23\n",
    "\n",
    "# Total number of reviews\n",
    "total_reviews = positive_count + negative_count + neutral_count\n",
    "\n",
    "# Calculate percentages\n",
    "positive_percentage = (positive_count / total_reviews) * 100\n",
    "negative_percentage = (negative_count / total_reviews) * 100\n",
    "neutral_percentage = (neutral_count / total_reviews) * 100\n",
    "\n",
    "# Print percentages\n",
    "print(\"Percentage of positive reviews:\", positive_percentage, \"%\")\n",
    "print(\"Percentage of negative reviews:\", negative_percentage, \"%\")\n",
    "print(\"Percentage of neutral reviews:\", neutral_percentage, \"%\")\n"
   ]
  },
  {
   "cell_type": "markdown",
   "id": "bc653a46",
   "metadata": {},
   "source": [
    "We have about 93% percent of reviews as positive, about 6.6% percent of reviews as negative and about 0.1% of reviews as neutral, we can see there is a clear imbalance in the label, as we have positive sentiment accounting for almost all the observations."
   ]
  },
  {
   "cell_type": "markdown",
   "id": "48f04fb9",
   "metadata": {},
   "source": [
    "Let's move on to feature selection, the imbalanced dataset will be handled with an imbalanced classifier that will balance our dataset"
   ]
  },
  {
   "cell_type": "code",
   "execution_count": null,
   "id": "90333fe7",
   "metadata": {},
   "outputs": [],
   "source": []
  }
 ],
 "metadata": {
  "kernelspec": {
   "display_name": "Python 3 (ipykernel)",
   "language": "python",
   "name": "python3"
  },
  "language_info": {
   "codemirror_mode": {
    "name": "ipython",
    "version": 3
   },
   "file_extension": ".py",
   "mimetype": "text/x-python",
   "name": "python",
   "nbconvert_exporter": "python",
   "pygments_lexer": "ipython3",
   "version": "3.9.12"
  }
 },
 "nbformat": 4,
 "nbformat_minor": 5
}
