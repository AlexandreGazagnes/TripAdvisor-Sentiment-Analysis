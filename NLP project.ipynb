{
 "cells": [
  {
   "cell_type": "markdown",
   "id": "8b622dd9",
   "metadata": {},
   "source": [
    "# Import\n"
   ]
  },
  {
   "cell_type": "code",
   "execution_count": 29,
   "id": "99781169",
   "metadata": {},
   "outputs": [],
   "source": [
    "import os, sys, warnings\n",
    "import pickle\n",
    "from IPython.display import display\n",
    "import pandas as pd\n",
    "import numpy as np\n",
    "import matplotlib.pyplot as plt\n",
    "import seaborn as sns"
   ]
  },
  {
   "cell_type": "code",
   "execution_count": 3,
   "id": "85969878",
   "metadata": {},
   "outputs": [],
   "source": [
    "from sklearn.base import *\n",
    "from sklearn.preprocessing import *\n",
    "from sklearn.impute import *\n",
    "from sklearn.model_selection import *\n",
    "from sklearn.decomposition import *\n",
    "from sklearn.ensemble import *\n",
    "from sklearn.model_selection import *\n",
    "from sklearn.pipeline import *\n",
    "from sklearn.feature_extraction import *\n",
    "from sklearn.dummy import *\n",
    "from sklearn.feature_extraction.text import *\n",
    "from sklearn.linear_model import *\n",
    "from sklearn.ensemble import *\n",
    "from sklearn.neighbors import *"
   ]
  },
  {
   "cell_type": "code",
   "execution_count": 32,
   "id": "3d6864c6",
   "metadata": {},
   "outputs": [],
   "source": [
    "import nltk\n",
    "import wordcloud\n",
    "from nltk.corpus import stopwords\n",
    "from nltk.corpus import words\n",
    "from nltk.tokenize import wordpunct_tokenize\n",
    "from nltk.stem import SnowballStemmer\n",
    "from nltk.tokenize import word_tokenize\n",
    "import string\n",
    "import spacy\n",
    "from spacy.lang.en.stop_words import STOP_WORDS"
   ]
  },
  {
   "cell_type": "markdown",
   "id": "83c434b5",
   "metadata": {},
   "source": [
    "Third parties tools"
   ]
  },
  {
   "cell_type": "code",
   "execution_count": 33,
   "id": "3169a8d4",
   "metadata": {},
   "outputs": [
    {
     "name": "stderr",
     "output_type": "stream",
     "text": [
      "[nltk_data] Downloading package punkt to\n",
      "[nltk_data]     /Users/mariemediene/nltk_data...\n",
      "[nltk_data]   Package punkt is already up-to-date!\n",
      "[nltk_data] Downloading package stopwords to\n",
      "[nltk_data]     /Users/mariemediene/nltk_data...\n",
      "[nltk_data]   Package stopwords is already up-to-date!\n",
      "[nltk_data] Downloading package words to\n",
      "[nltk_data]     /Users/mariemediene/nltk_data...\n",
      "[nltk_data]   Package words is already up-to-date!\n"
     ]
    },
    {
     "data": {
      "text/plain": [
       "True"
      ]
     },
     "execution_count": 33,
     "metadata": {},
     "output_type": "execute_result"
    }
   ],
   "source": [
    "nltk.download(\"punkt\")\n",
    "nltk.download(\"stopwords\")\n",
    "nltk.download(\"words\")"
   ]
  },
  {
   "cell_type": "code",
   "execution_count": 10,
   "id": "6a472137",
   "metadata": {},
   "outputs": [],
   "source": [
    "df = pd.read_csv('lyrics_raw.csv')"
   ]
  },
  {
   "cell_type": "code",
   "execution_count": 11,
   "id": "18866f5c",
   "metadata": {},
   "outputs": [
    {
     "data": {
      "text/html": [
       "<div>\n",
       "<style scoped>\n",
       "    .dataframe tbody tr th:only-of-type {\n",
       "        vertical-align: middle;\n",
       "    }\n",
       "\n",
       "    .dataframe tbody tr th {\n",
       "        vertical-align: top;\n",
       "    }\n",
       "\n",
       "    .dataframe thead th {\n",
       "        text-align: right;\n",
       "    }\n",
       "</style>\n",
       "<table border=\"1\" class=\"dataframe\">\n",
       "  <thead>\n",
       "    <tr style=\"text-align: right;\">\n",
       "      <th></th>\n",
       "      <th>track_name</th>\n",
       "      <th>artist</th>\n",
       "      <th>raw_lyrics</th>\n",
       "      <th>artist_verses</th>\n",
       "    </tr>\n",
       "  </thead>\n",
       "  <tbody>\n",
       "    <tr>\n",
       "      <th>0</th>\n",
       "      <td>You Broke My Heart</td>\n",
       "      <td>Drake</td>\n",
       "      <td>Yeah Yeah Oh, baby, don't go Don't go Look Loo...</td>\n",
       "      <td>Yeah\\nYeah\\nOh, baby, don't go\\nDon't go\\nLook...</td>\n",
       "    </tr>\n",
       "    <tr>\n",
       "      <th>1</th>\n",
       "      <td>First Person Shooter (feat. J. Cole)</td>\n",
       "      <td>Drake</td>\n",
       "      <td>[Intro: J. Cole &amp; Adonis] (Pew, pew-pew) First...</td>\n",
       "      <td>Big as the what? (Ah)\\nBig as the what? (Mm)\\n...</td>\n",
       "    </tr>\n",
       "    <tr>\n",
       "      <th>2</th>\n",
       "      <td>MELTDOWN (feat. Drake)</td>\n",
       "      <td>Drake</td>\n",
       "      <td>[Intro: Drake] Yeah Tensions is definitely ris...</td>\n",
       "      <td>Yeah\\nTensions is definitely rising\\nT'd up ri...</td>\n",
       "    </tr>\n",
       "    <tr>\n",
       "      <th>3</th>\n",
       "      <td>Slime You Out (feat. SZA)</td>\n",
       "      <td>Drake</td>\n",
       "      <td>I don't know I don't know what's wrong with yo...</td>\n",
       "      <td>I don't know\\nI don't know what's wrong with y...</td>\n",
       "    </tr>\n",
       "    <tr>\n",
       "      <th>4</th>\n",
       "      <td>On The Radar Freestyle</td>\n",
       "      <td>Drake</td>\n",
       "      <td>Yeah On The Radar, 2023 6 G-O-D and my broski ...</td>\n",
       "      <td>Yeah\\nOn The Radar, \\n G-O-D and my broski \\nC...</td>\n",
       "    </tr>\n",
       "  </tbody>\n",
       "</table>\n",
       "</div>"
      ],
      "text/plain": [
       "                             track_name artist  \\\n",
       "0                    You Broke My Heart  Drake   \n",
       "1  First Person Shooter (feat. J. Cole)  Drake   \n",
       "2                MELTDOWN (feat. Drake)  Drake   \n",
       "3             Slime You Out (feat. SZA)  Drake   \n",
       "4                On The Radar Freestyle  Drake   \n",
       "\n",
       "                                          raw_lyrics  \\\n",
       "0  Yeah Yeah Oh, baby, don't go Don't go Look Loo...   \n",
       "1  [Intro: J. Cole & Adonis] (Pew, pew-pew) First...   \n",
       "2  [Intro: Drake] Yeah Tensions is definitely ris...   \n",
       "3  I don't know I don't know what's wrong with yo...   \n",
       "4  Yeah On The Radar, 2023 6 G-O-D and my broski ...   \n",
       "\n",
       "                                       artist_verses  \n",
       "0  Yeah\\nYeah\\nOh, baby, don't go\\nDon't go\\nLook...  \n",
       "1  Big as the what? (Ah)\\nBig as the what? (Mm)\\n...  \n",
       "2  Yeah\\nTensions is definitely rising\\nT'd up ri...  \n",
       "3  I don't know\\nI don't know what's wrong with y...  \n",
       "4  Yeah\\nOn The Radar, \\n G-O-D and my broski \\nC...  "
      ]
     },
     "execution_count": 11,
     "metadata": {},
     "output_type": "execute_result"
    }
   ],
   "source": [
    "df.head()"
   ]
  },
  {
   "cell_type": "code",
   "execution_count": 13,
   "id": "a5a8ee50",
   "metadata": {},
   "outputs": [
    {
     "name": "stdout",
     "output_type": "stream",
     "text": [
      "530\n"
     ]
    }
   ],
   "source": [
    "print(len(df))"
   ]
  },
  {
   "cell_type": "markdown",
   "id": "13ae8504",
   "metadata": {},
   "source": [
    "Preprocess dataset"
   ]
  },
  {
   "cell_type": "code",
   "execution_count": 34,
   "id": "b61505df",
   "metadata": {},
   "outputs": [],
   "source": [
    "def preprocess_lyrics(lyrics):\n",
    "    # Tokenization des paroles\n",
    "    tokens = word_tokenize(lyrics.lower())  # Convertir en minuscules\n",
    "    \n",
    "    # Initialisation du stemmer Snowball\n",
    "    stemmer = SnowballStemmer(\"english\")\n",
    "    \n",
    "    # Suppression des stopwords et racinisation des mots\n",
    "    stop_words = set(stopwords.words('english'))\n",
    "    processed_tokens = [stemmer.stem(word) for word in tokens if word.isalnum() and word not in stop_words]\n",
    "    \n",
    "    return processed_tokens"
   ]
  },
  {
   "cell_type": "code",
   "execution_count": 35,
   "id": "c7e3911b",
   "metadata": {},
   "outputs": [
    {
     "name": "stdout",
     "output_type": "stream",
     "text": [
      "Paroles originales : \n",
      "Yeah On The Radar, 2023 6 G-O-D and my broski 2C You know what it is Some madness and badness, combination Yeah Ayy, grr  [Verse 1: Drake] On Morningside, got no stick in the ride If I take flicks with the guys, I gotta put emojis over like three faces 'cause the feds can't see those eyes People I shouldn't be beside When I was an actor, they would go Stratford just to sell food on Bieber's side Plenty reasons why I'm this way, my girl, that's just one reason why Seen you around at Sotto, enough man, baby, you love on some eediat guys Obedient guys, jokers and comеdian guys You know I'm like 6'2\" in the right shoe, lovе, but you love on some medium guys I wanna keep you on the beach 'til 6 A.M., so you see sunrise Seen you from the stage in the one hundreds, these must be eagle eyes Pressin' against me, thinkin' 'bout entry, know you could tell it's a decent size You wanna know the real me, girl, say you wanna see deep inside If Chubbs has on a Chanel side bag, you don't wanna see him reach inside 'Cah we know some demon guys with jealous and evil eyes You know that's how Jesus died, you know that's how Julius Caesar died I bet they were decent guys, I swear they remind me of me sometimes I'm tryna be under your breasts like peas and rice, you never get treated nice Fool you once, that's fine, but you look dumb if you let them repeat it twice Two hundred mill' on the table, I hope I'm able to get this agreement signed Told you I needed time, but really the truth is I don't believe in time Feel like I been here over a thousand years like since the medieval times And I'm still just a cutthroat king even though this is recent times A man might dead that we're beefin' with, but we don't do grieving time Fuck teasin' time, if I cum inside you, it's breedin' time So much for idols, KMT with the eye roll Knew that I made it when I had drivers holding my last name up in arrivals Cench might need vaccine when he see how this vid' start going viral If Lita's there, then the mash is there with grains in there like silos The morning rain clouds up my window, I swear I feel like Dido J-A-U-M, how it looks when man put you in a jam like typos Negotiation, asking for twenty percent of the company, that's my final Realistic, the shit might N15 like I'm going through Tottenham High Road If it's beef, I'll get that shaved for bread and grease like I'm making giros, or I'm making gyros So much for all these heroes The numbers are good with me as long as it's comma then zero, zero, zero, zero, zero, zero, zero Pass me a glass of the vino If a girl try take my Rolex to buy some Valentino I tell Baby M what she did to the kid, then I line her like emo She didn't rock my clothing line when we had one shirt to go with the jeans though Now man like me and Clint can afford those whips like Gran Torino Grr You might also like[Verse 2: Central Cee] Crocodile tears, she ain't even cryin' Why you swearing to God? You don't even believe in Christ What you sayin' wallahi for? You ain't been on your din, you've been eating swine, nah I ain't the man of your dreams, now you wish that you stayed with your previous guy It used to be 3.5s, now I can sell out the O2 arena twice Don't ask what the fee looks like Don't believe all the media hype, like eighty percent of these people lyin' Who can I ask when I need advice? I gotta work hard, it's me who provides Email YBeeez for the feature, look What goes up must come down so when you're in the air, prepare for the landin' I did everything that I could for my hood, so how do they say I don't care for the mandem? Crib so big I might get out of breath if I walk too quick up the stairs in the mansion They weren't there for the action Tryna round up three hundred Spartans, we goin' to war but we ain't in Athens Everything won't go to plan, that's not how it goes, I'm afraid shit happens Rap boy on a footballer's wage, I'm on the same pay as the players at Dallas What's makin' the haters jealous? I'm thinking the AP's eighteen karats They call me my government name in Harrods (Uh) This one ratchet, don't even know who her baby dad is (Nah) If I cum inside, then I won't leave 'til I see her take the tablet (Nah) He mention my name 'cause he wanted some fame and he ain't established (Huh) Alright, you know the verse gon' hit when you hear that adlib Come a long way, I was sellin' them opium on my lonely, but I'm not Ken Carson And my hood red hot, red dot on my head, in my hood, I'm a target So driver, stay in the whip while I jump out quick, don't park it I can lean out the window and horn it, I'm on the same pay as the players at Charlotte Big fish in this ting, no armbands like a backstroke how I swim in that shark tank Drop me in the jungle, tree-to-tree, start swingin' like Tarzan Twenty-four inch on the rims on the Benz, I'm doing donuts and skidding on tarmac (Huh) Sick of these high-rise buildings, flip the script, now I'm livin' on farmland (Huh) [Outro: Drake, Drake & Central Cee] Hmm, grr Alright Alright (Hahaha)4Embed\n",
      "\n",
      "\n",
      "Paroles tokenisées et racinisées : \n",
      "['yeah', 'radar', '2023', '6', 'broski', '2c', 'know', 'mad', 'bad', 'combin', 'yeah', 'ayi', 'grr', 'vers', '1', 'drake', 'morningsid', 'got', 'stick', 'ride', 'take', 'flick', 'guy', 'got', 'ta', 'put', 'emoji', 'like', 'three', 'face', 'fed', 'ca', 'see', 'eye', 'peopl', 'besid', 'actor', 'would', 'go', 'stratford', 'sell', 'food', 'bieber', 'side', 'plenti', 'reason', 'way', 'girl', 'one', 'reason', 'seen', 'around', 'sotto', 'enough', 'man', 'babi', 'love', 'eediat', 'guy', 'obedi', 'guy', 'joker', 'comеdian', 'guy', 'know', 'like', '6', '2', 'right', 'shoe', 'lovе', 'love', 'medium', 'guy', 'wan', 'na', 'keep', 'beach', '6', 'see', 'sunris', 'seen', 'stage', 'one', 'hundr', 'must', 'eagl', 'eye', 'pressin', 'thinkin', 'entri', 'know', 'could', 'tell', 'decent', 'size', 'wan', 'na', 'know', 'real', 'girl', 'say', 'wan', 'na', 'see', 'deep', 'insid', 'chubb', 'chanel', 'side', 'bag', 'wan', 'na', 'see', 'reach', 'insid', 'know', 'demon', 'guy', 'jealous', 'evil', 'eye', 'know', 'jesus', 'die', 'know', 'julius', 'caesar', 'die', 'bet', 'decent', 'guy', 'swear', 'remind', 'sometim', 'tryna', 'breast', 'like', 'pea', 'rice', 'never', 'get', 'treat', 'nice', 'fool', 'fine', 'look', 'dumb', 'let', 'repeat', 'twice', 'two', 'hundr', 'mill', 'tabl', 'hope', 'abl', 'get', 'agreement', 'sign', 'told', 'need', 'time', 'realli', 'truth', 'believ', 'time', 'feel', 'like', 'thousand', 'year', 'like', 'sinc', 'mediev', 'time', 'still', 'cutthroat', 'king', 'even', 'though', 'recent', 'time', 'man', 'might', 'dead', 'beefin', 'griev', 'time', 'fuck', 'teasin', 'time', 'cum', 'insid', 'breedin', 'time', 'much', 'idol', 'kmt', 'eye', 'roll', 'knew', 'made', 'driver', 'hold', 'last', 'name', 'arriv', 'cench', 'might', 'need', 'vaccin', 'see', 'vid', 'start', 'go', 'viral', 'lita', 'mash', 'grain', 'like', 'silo', 'morn', 'rain', 'cloud', 'window', 'swear', 'feel', 'like', 'dido', 'look', 'man', 'put', 'jam', 'like', 'typo', 'negoti', 'ask', 'twenti', 'percent', 'compani', 'final', 'realist', 'shit', 'might', 'n15', 'like', 'go', 'tottenham', 'high', 'road', 'beef', 'get', 'shave', 'bread', 'greas', 'like', 'make', 'giro', 'make', 'gyro', 'much', 'hero', 'number', 'good', 'long', 'comma', 'zero', 'zero', 'zero', 'zero', 'zero', 'zero', 'zero', 'pass', 'glass', 'vino', 'girl', 'tri', 'take', 'rolex', 'buy', 'valentino', 'tell', 'babi', 'kid', 'line', 'like', 'emo', 'rock', 'cloth', 'line', 'one', 'shirt', 'go', 'jean', 'though', 'man', 'like', 'clint', 'afford', 'whip', 'like', 'gran', 'torino', 'grr', 'might', 'also', 'like', 'vers', '2', 'central', 'cee', 'crocodil', 'tear', 'ai', 'even', 'cryin', 'swear', 'god', 'even', 'believ', 'christ', 'sayin', 'wallahi', 'ai', 'din', 'eat', 'swine', 'nah', 'ai', 'man', 'dream', 'wish', 'stay', 'previous', 'guy', 'use', 'sell', 'o2', 'arena', 'twice', 'ask', 'fee', 'look', 'like', 'believ', 'media', 'hype', 'like', 'eighti', 'percent', 'peopl', 'lyin', 'ask', 'need', 'advic', 'got', 'ta', 'work', 'hard', 'provid', 'email', 'ybeeez', 'featur', 'look', 'goe', 'must', 'come', 'air', 'prepar', 'landin', 'everyth', 'could', 'hood', 'say', 'care', 'mandem', 'crib', 'big', 'might', 'get', 'breath', 'walk', 'quick', 'stair', 'mansion', 'action', 'tryna', 'round', 'three', 'hundr', 'spartan', 'goin', 'war', 'ai', 'athen', 'everyth', 'wo', 'go', 'plan', 'goe', 'afraid', 'shit', 'happen', 'rap', 'boy', 'footbal', 'wage', 'pay', 'player', 'dalla', 'makin', 'hater', 'jealous', 'think', 'ap', 'eighteen', 'karat', 'call', 'govern', 'name', 'harrod', 'uh', 'one', 'ratchet', 'even', 'know', 'babi', 'dad', 'nah', 'cum', 'insid', 'wo', 'leav', 'see', 'take', 'tablet', 'nah', 'mention', 'name', 'want', 'fame', 'ai', 'establish', 'huh', 'alright', 'know', 'vers', 'gon', 'hit', 'hear', 'adlib', 'come', 'long', 'way', 'sellin', 'opium', 'lone', 'ken', 'carson', 'hood', 'red', 'hot', 'red', 'dot', 'head', 'hood', 'target', 'driver', 'stay', 'whip', 'jump', 'quick', 'park', 'lean', 'window', 'horn', 'pay', 'player', 'charlott', 'big', 'fish', 'ting', 'armband', 'like', 'backstrok', 'swim', 'shark', 'tank', 'drop', 'jungl', 'start', 'swingin', 'like', 'tarzan', 'inch', 'rim', 'benz', 'donut', 'skid', 'tarmac', 'huh', 'sick', 'build', 'flip', 'script', 'livin', 'farmland', 'huh', 'outro', 'drake', 'drake', 'central', 'cee', 'hmm', 'grr', 'alright', 'alright', 'hahaha', '4emb']\n"
     ]
    }
   ],
   "source": [
    "track_name = \"On The Radar Freestyle\"\n",
    "filtered_df = df[df['track_name'] == track_name]\n",
    "\n",
    "if not filtered_df.empty:\n",
    "    lyrics_sample = filtered_df.iloc[0]['raw_lyrics']\n",
    "    \n",
    "    print(\"Original lyrics : \")\n",
    "    print(lyrics_sample)\n",
    "    print(\"Tokenized and lemmatized words : \")\n",
    "    print(preprocess_lyrics(lyrics_sample))\n",
    "else:\n",
    "    print(\"no song found\")\n"
   ]
  },
  {
   "cell_type": "code",
   "execution_count": 37,
   "id": "870dec65",
   "metadata": {},
   "outputs": [],
   "source": [
    "import gensim\n",
    "from gensim.utils import simple_preprocess\n",
    "from gensim.parsing.preprocessing import STOPWORDS\n",
    "from nltk.stem import WordNetLemmatizer, SnowballStemmer\n",
    "from nltk.stem.porter import *\n",
    "import numpy as np\n",
    "np.random.seed(400)"
   ]
  },
  {
   "cell_type": "code",
   "execution_count": null,
   "id": "1d352660",
   "metadata": {},
   "outputs": [],
   "source": []
  }
 ],
 "metadata": {
  "kernelspec": {
   "display_name": "Python 3 (ipykernel)",
   "language": "python",
   "name": "python3"
  },
  "language_info": {
   "codemirror_mode": {
    "name": "ipython",
    "version": 3
   },
   "file_extension": ".py",
   "mimetype": "text/x-python",
   "name": "python",
   "nbconvert_exporter": "python",
   "pygments_lexer": "ipython3",
   "version": "3.9.13"
  }
 },
 "nbformat": 4,
 "nbformat_minor": 5
}
